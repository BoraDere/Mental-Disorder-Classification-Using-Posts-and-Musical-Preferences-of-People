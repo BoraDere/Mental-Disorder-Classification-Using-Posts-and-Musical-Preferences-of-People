{
 "cells": [
  {
   "cell_type": "markdown",
   "metadata": {},
   "source": [
    "# Data Sampling of anon_disorder_tweets.csv\n",
    "\n",
    "* We will clean our data and take a sample with the information we have gained through the EDA"
   ]
  },
  {
   "cell_type": "code",
   "execution_count": null,
   "metadata": {},
   "outputs": [],
   "source": [
    "import pandas as pd\n",
    "import numpy as np\n",
    "import matplotlib.pyplot as plt\n",
    "import seaborn as sns\n",
    "\n",
    "# Load the data\n",
    "df = pd.read_csv('../data/anon_disorder_tweets.csv')"
   ]
  },
  {
   "cell_type": "code",
   "execution_count": 2,
   "metadata": {},
   "outputs": [
    {
     "data": {
      "text/plain": [
       "Index(['Unnamed: 0', 'artist', 'lyric', 'created_at', 'type', 'title',\n",
       "       'user_id', 'src', 'disorder'],\n",
       "      dtype='object')"
      ]
     },
     "execution_count": 2,
     "metadata": {},
     "output_type": "execute_result"
    }
   ],
   "source": [
    "df.columns"
   ]
  },
  {
   "cell_type": "code",
   "execution_count": 3,
   "metadata": {},
   "outputs": [],
   "source": [
    "df.drop(['Unnamed: 0'] ,axis=1, inplace=True)"
   ]
  },
  {
   "cell_type": "code",
   "execution_count": 59,
   "metadata": {},
   "outputs": [
    {
     "data": {
      "text/html": [
       "<div>\n",
       "<style scoped>\n",
       "    .dataframe tbody tr th:only-of-type {\n",
       "        vertical-align: middle;\n",
       "    }\n",
       "\n",
       "    .dataframe tbody tr th {\n",
       "        vertical-align: top;\n",
       "    }\n",
       "\n",
       "    .dataframe thead th {\n",
       "        text-align: right;\n",
       "    }\n",
       "</style>\n",
       "<table border=\"1\" class=\"dataframe\">\n",
       "  <thead>\n",
       "    <tr style=\"text-align: right;\">\n",
       "      <th></th>\n",
       "      <th>user_id</th>\n",
       "      <th>text</th>\n",
       "      <th>disorder</th>\n",
       "    </tr>\n",
       "  </thead>\n",
       "  <tbody>\n",
       "    <tr>\n",
       "      <th>0</th>\n",
       "      <td>3f21058fc8</td>\n",
       "      <td>@amirulmokhtar Exactly! We were busy buat untu...</td>\n",
       "      <td>anxiety</td>\n",
       "    </tr>\n",
       "    <tr>\n",
       "      <th>1</th>\n",
       "      <td>3f21058fc8</td>\n",
       "      <td>Ternangis baca text &amp;amp; dengar call reply di...</td>\n",
       "      <td>anxiety</td>\n",
       "    </tr>\n",
       "    <tr>\n",
       "      <th>2</th>\n",
       "      <td>3f21058fc8</td>\n",
       "      <td>I learn smthg very valuable today.\\n\\nWhen I w...</td>\n",
       "      <td>anxiety</td>\n",
       "    </tr>\n",
       "    <tr>\n",
       "      <th>3</th>\n",
       "      <td>3f21058fc8</td>\n",
       "      <td>@MintKr Ohhh okay. So, to create more opportun...</td>\n",
       "      <td>anxiety</td>\n",
       "    </tr>\n",
       "    <tr>\n",
       "      <th>4</th>\n",
       "      <td>3f21058fc8</td>\n",
       "      <td>@MintKr Perspective expanding experience tu ap...</td>\n",
       "      <td>anxiety</td>\n",
       "    </tr>\n",
       "    <tr>\n",
       "      <th>...</th>\n",
       "      <td>...</td>\n",
       "      <td>...</td>\n",
       "      <td>...</td>\n",
       "    </tr>\n",
       "    <tr>\n",
       "      <th>32191363</th>\n",
       "      <td>c789b769d1</td>\n",
       "      <td>Peeps Don't forget to catch the braai show @SA...</td>\n",
       "      <td>bipolar</td>\n",
       "    </tr>\n",
       "    <tr>\n",
       "      <th>32191364</th>\n",
       "      <td>c789b769d1</td>\n",
       "      <td>@JohnnyGargano #fortheloveofGarganoway🔥💝</td>\n",
       "      <td>bipolar</td>\n",
       "    </tr>\n",
       "    <tr>\n",
       "      <th>32191365</th>\n",
       "      <td>c789b769d1</td>\n",
       "      <td>@Official_SABC1 @akaworldwide @malusi_gigaba D...</td>\n",
       "      <td>bipolar</td>\n",
       "    </tr>\n",
       "    <tr>\n",
       "      <th>32191366</th>\n",
       "      <td>c789b769d1</td>\n",
       "      <td>#TeamBreezyForever🔥💝💝😇#TeamBreezySA 🇿🇦💝#ChrisB...</td>\n",
       "      <td>bipolar</td>\n",
       "    </tr>\n",
       "    <tr>\n",
       "      <th>32191367</th>\n",
       "      <td>c789b769d1</td>\n",
       "      <td>#lookingIntoTheFuture 🔥🏆#ItsLookingGood https:...</td>\n",
       "      <td>bipolar</td>\n",
       "    </tr>\n",
       "  </tbody>\n",
       "</table>\n",
       "<p>32191368 rows × 3 columns</p>\n",
       "</div>"
      ],
      "text/plain": [
       "             user_id                                               text  \\\n",
       "0         3f21058fc8  @amirulmokhtar Exactly! We were busy buat untu...   \n",
       "1         3f21058fc8  Ternangis baca text &amp; dengar call reply di...   \n",
       "2         3f21058fc8  I learn smthg very valuable today.\\n\\nWhen I w...   \n",
       "3         3f21058fc8  @MintKr Ohhh okay. So, to create more opportun...   \n",
       "4         3f21058fc8  @MintKr Perspective expanding experience tu ap...   \n",
       "...              ...                                                ...   \n",
       "32191363  c789b769d1  Peeps Don't forget to catch the braai show @SA...   \n",
       "32191364  c789b769d1           @JohnnyGargano #fortheloveofGarganoway🔥💝   \n",
       "32191365  c789b769d1  @Official_SABC1 @akaworldwide @malusi_gigaba D...   \n",
       "32191366  c789b769d1  #TeamBreezyForever🔥💝💝😇#TeamBreezySA 🇿🇦💝#ChrisB...   \n",
       "32191367  c789b769d1  #lookingIntoTheFuture 🔥🏆#ItsLookingGood https:...   \n",
       "\n",
       "         disorder  \n",
       "0         anxiety  \n",
       "1         anxiety  \n",
       "2         anxiety  \n",
       "3         anxiety  \n",
       "4         anxiety  \n",
       "...           ...  \n",
       "32191363  bipolar  \n",
       "32191364  bipolar  \n",
       "32191365  bipolar  \n",
       "32191366  bipolar  \n",
       "32191367  bipolar  \n",
       "\n",
       "[32191368 rows x 3 columns]"
      ]
     },
     "execution_count": 59,
     "metadata": {},
     "output_type": "execute_result"
    }
   ],
   "source": [
    "df"
   ]
  },
  {
   "cell_type": "markdown",
   "metadata": {},
   "source": [
    "## dropping non_english  characters"
   ]
  },
  {
   "cell_type": "code",
   "execution_count": 60,
   "metadata": {},
   "outputs": [
    {
     "name": "stdout",
     "output_type": "stream",
     "text": [
      "Filtered Tweets: ['This is an English tweet!', '123456789', 'Another English text with numbers 123!']\n"
     ]
    }
   ],
   "source": [
    "import re\n",
    "\n",
    "def is_english_text(text):\n",
    "    \"\"\"\n",
    "    Check if a text contains predominantly English characters.\n",
    "    Returns True if the text is mostly English, False otherwise.\n",
    "    \"\"\"\n",
    "    # Regex to allow only English letters, numbers, and common punctuation\n",
    "    english_regex = re.compile(r'^[\\x00-\\x7F]+$')  # Matches ASCII characters only\n",
    "    return bool(english_regex.match(text))\n",
    "\n",
    "# Sample list of tweets including Indian scripts\n",
    "tweets = [\n",
    "    \"This is an English tweet!\",\n",
    "    \"यह हिंदी में एक ट्वीट है\",  # Hindi\n",
    "    \"123456789\",  # Numbers only\n",
    "    \"Another English text with numbers 123!\",\n",
    "    \"ఇది తెలుగు ట్వీట్\",  # Telugu\n",
    "]\n",
    "\n",
    "# Filter only English texts\n",
    "filtered_tweets = [tweet for tweet in tweets if is_english_text(tweet)]\n",
    "\n",
    "print(\"Filtered Tweets:\", filtered_tweets)\n"
   ]
  },
  {
   "cell_type": "code",
   "execution_count": 61,
   "metadata": {},
   "outputs": [
    {
     "data": {
      "text/html": [
       "<div>\n",
       "<style scoped>\n",
       "    .dataframe tbody tr th:only-of-type {\n",
       "        vertical-align: middle;\n",
       "    }\n",
       "\n",
       "    .dataframe tbody tr th {\n",
       "        vertical-align: top;\n",
       "    }\n",
       "\n",
       "    .dataframe thead th {\n",
       "        text-align: right;\n",
       "    }\n",
       "</style>\n",
       "<table border=\"1\" class=\"dataframe\">\n",
       "  <thead>\n",
       "    <tr style=\"text-align: right;\">\n",
       "      <th></th>\n",
       "      <th>user_id</th>\n",
       "      <th>text</th>\n",
       "      <th>disorder</th>\n",
       "    </tr>\n",
       "  </thead>\n",
       "  <tbody>\n",
       "    <tr>\n",
       "      <th>2</th>\n",
       "      <td>3f21058fc8</td>\n",
       "      <td>I learn smthg very valuable today.\\n\\nWhen I w...</td>\n",
       "      <td>anxiety</td>\n",
       "    </tr>\n",
       "    <tr>\n",
       "      <th>3</th>\n",
       "      <td>3f21058fc8</td>\n",
       "      <td>@MintKr Ohhh okay. So, to create more opportun...</td>\n",
       "      <td>anxiety</td>\n",
       "    </tr>\n",
       "    <tr>\n",
       "      <th>4</th>\n",
       "      <td>3f21058fc8</td>\n",
       "      <td>@MintKr Perspective expanding experience tu ap...</td>\n",
       "      <td>anxiety</td>\n",
       "    </tr>\n",
       "    <tr>\n",
       "      <th>7</th>\n",
       "      <td>3f21058fc8</td>\n",
       "      <td>@TweetKellyTelly @zamrimohamad Baru nak tanya ...</td>\n",
       "      <td>anxiety</td>\n",
       "    </tr>\n",
       "    <tr>\n",
       "      <th>9</th>\n",
       "      <td>3f21058fc8</td>\n",
       "      <td>@_arares Paling senang buat je. Selamat dunia ...</td>\n",
       "      <td>anxiety</td>\n",
       "    </tr>\n",
       "    <tr>\n",
       "      <th>...</th>\n",
       "      <td>...</td>\n",
       "      <td>...</td>\n",
       "      <td>...</td>\n",
       "    </tr>\n",
       "    <tr>\n",
       "      <th>32191341</th>\n",
       "      <td>c789b769d1</td>\n",
       "      <td>\"In Order For Good Things To Come Your Way , Y...</td>\n",
       "      <td>bipolar</td>\n",
       "    </tr>\n",
       "    <tr>\n",
       "      <th>32191344</th>\n",
       "      <td>c789b769d1</td>\n",
       "      <td>If you a guy/man reading this... Please treat ...</td>\n",
       "      <td>bipolar</td>\n",
       "    </tr>\n",
       "    <tr>\n",
       "      <th>32191347</th>\n",
       "      <td>c789b769d1</td>\n",
       "      <td>Someone said, \"Don't be afraid to start over a...</td>\n",
       "      <td>bipolar</td>\n",
       "    </tr>\n",
       "    <tr>\n",
       "      <th>32191352</th>\n",
       "      <td>c789b769d1</td>\n",
       "      <td>\"As you start and end your day,be thankful for...</td>\n",
       "      <td>bipolar</td>\n",
       "    </tr>\n",
       "    <tr>\n",
       "      <th>32191355</th>\n",
       "      <td>c789b769d1</td>\n",
       "      <td>Motivation quote for the evening.\\n\"All our dr...</td>\n",
       "      <td>bipolar</td>\n",
       "    </tr>\n",
       "  </tbody>\n",
       "</table>\n",
       "<p>20956299 rows × 3 columns</p>\n",
       "</div>"
      ],
      "text/plain": [
       "             user_id                                               text  \\\n",
       "2         3f21058fc8  I learn smthg very valuable today.\\n\\nWhen I w...   \n",
       "3         3f21058fc8  @MintKr Ohhh okay. So, to create more opportun...   \n",
       "4         3f21058fc8  @MintKr Perspective expanding experience tu ap...   \n",
       "7         3f21058fc8  @TweetKellyTelly @zamrimohamad Baru nak tanya ...   \n",
       "9         3f21058fc8  @_arares Paling senang buat je. Selamat dunia ...   \n",
       "...              ...                                                ...   \n",
       "32191341  c789b769d1  \"In Order For Good Things To Come Your Way , Y...   \n",
       "32191344  c789b769d1  If you a guy/man reading this... Please treat ...   \n",
       "32191347  c789b769d1  Someone said, \"Don't be afraid to start over a...   \n",
       "32191352  c789b769d1  \"As you start and end your day,be thankful for...   \n",
       "32191355  c789b769d1  Motivation quote for the evening.\\n\"All our dr...   \n",
       "\n",
       "         disorder  \n",
       "2         anxiety  \n",
       "3         anxiety  \n",
       "4         anxiety  \n",
       "7         anxiety  \n",
       "9         anxiety  \n",
       "...           ...  \n",
       "32191341  bipolar  \n",
       "32191344  bipolar  \n",
       "32191347  bipolar  \n",
       "32191352  bipolar  \n",
       "32191355  bipolar  \n",
       "\n",
       "[20956299 rows x 3 columns]"
      ]
     },
     "execution_count": 61,
     "metadata": {},
     "output_type": "execute_result"
    }
   ],
   "source": [
    "df.loc[df['text'].apply(is_english_text)]"
   ]
  },
  {
   "cell_type": "code",
   "execution_count": 62,
   "metadata": {},
   "outputs": [],
   "source": [
    "df = df.loc[df['text'].apply(is_english_text)]"
   ]
  },
  {
   "cell_type": "markdown",
   "metadata": {},
   "source": [
    "# removing links and mentions"
   ]
  },
  {
   "cell_type": "code",
   "execution_count": 63,
   "metadata": {},
   "outputs": [
    {
     "name": "stdout",
     "output_type": "stream",
     "text": [
      "Text after removing mentions: Hello ! Check out this link: https://www.world.com\n",
      "Text after removing URLs: Hello ! Check out this link: \n"
     ]
    }
   ],
   "source": [
    "def remove_mentions(text):\n",
    "    \"\"\"\n",
    "    Remove Twitter usernames from a text.\n",
    "    \"\"\"\n",
    "    # Regex pattern for mentions\n",
    "    pattern = re.compile(r'@[A-Za-z0-9_]{1,15}')\n",
    "    return pattern.sub('', text)\n",
    "\n",
    "def remove_urls(text):\n",
    "    \"\"\"\n",
    "    Remove URLs from a text.\n",
    "    \"\"\"\n",
    "    # Regex pattern for URLs\n",
    "    pattern = re.compile(r'https?://\\S+|www\\.\\S+')\n",
    "    return pattern.sub('', text)\n",
    "\n",
    "# Sample text with mentions and URLs\n",
    "text = \"Hello @world! Check out this link: https://www.world.com\"\n",
    "\n",
    "# Remove mentions and URLs\n",
    "text = remove_mentions(text)\n",
    "print(\"Text after removing mentions:\", text)\n",
    "\n",
    "text = remove_urls(text)\n",
    "print(\"Text after removing URLs:\", text)\n",
    "\n",
    "def remove_mentions_urls(text):\n",
    "    \"\"\"\n",
    "    Remove mentions and URLs from a text.\n",
    "    \"\"\"\n",
    "    text = remove_mentions(text)\n",
    "    text = remove_urls(text)\n",
    "    return text"
   ]
  },
  {
   "cell_type": "code",
   "execution_count": 64,
   "metadata": {},
   "outputs": [
    {
     "name": "stderr",
     "output_type": "stream",
     "text": [
      "/var/folders/v1/j0gp03d94595_00spx0xzcd40000gn/T/ipykernel_97753/2850023933.py:1: SettingWithCopyWarning: \n",
      "A value is trying to be set on a copy of a slice from a DataFrame.\n",
      "Try using .loc[row_indexer,col_indexer] = value instead\n",
      "\n",
      "See the caveats in the documentation: https://pandas.pydata.org/pandas-docs/stable/user_guide/indexing.html#returning-a-view-versus-a-copy\n",
      "  df['text'] = df['text'].apply(remove_mentions_urls)\n"
     ]
    }
   ],
   "source": [
    "df['text'] = df['text'].apply(remove_mentions_urls)"
   ]
  },
  {
   "cell_type": "markdown",
   "metadata": {},
   "source": [
    "## dropping to long or too short texts"
   ]
  },
  {
   "cell_type": "code",
   "execution_count": 65,
   "metadata": {},
   "outputs": [
    {
     "name": "stderr",
     "output_type": "stream",
     "text": [
      "/var/folders/v1/j0gp03d94595_00spx0xzcd40000gn/T/ipykernel_97753/2404797699.py:1: SettingWithCopyWarning: \n",
      "A value is trying to be set on a copy of a slice from a DataFrame.\n",
      "Try using .loc[row_indexer,col_indexer] = value instead\n",
      "\n",
      "See the caveats in the documentation: https://pandas.pydata.org/pandas-docs/stable/user_guide/indexing.html#returning-a-view-versus-a-copy\n",
      "  df['word_count'] = df['text'].apply(lambda x: len(x.split()))\n",
      "/var/folders/v1/j0gp03d94595_00spx0xzcd40000gn/T/ipykernel_97753/2404797699.py:3: SettingWithCopyWarning: \n",
      "A value is trying to be set on a copy of a slice from a DataFrame.\n",
      "Try using .loc[row_indexer,col_indexer] = value instead\n",
      "\n",
      "See the caveats in the documentation: https://pandas.pydata.org/pandas-docs/stable/user_guide/indexing.html#returning-a-view-versus-a-copy\n",
      "  df['char_count'] = df['text'].apply(len)\n"
     ]
    },
    {
     "data": {
      "text/plain": [
       "count    2.095630e+07\n",
       "mean     1.267054e+01\n",
       "std      1.265843e+01\n",
       "min      0.000000e+00\n",
       "25%      4.000000e+00\n",
       "50%      8.000000e+00\n",
       "75%      1.700000e+01\n",
       "max      1.400000e+02\n",
       "Name: word_count, dtype: float64"
      ]
     },
     "execution_count": 65,
     "metadata": {},
     "output_type": "execute_result"
    }
   ],
   "source": [
    "df['word_count'] = df['text'].apply(lambda x: len(x.split()))\n",
    "\n",
    "df['char_count'] = df['text'].apply(len)\n",
    "\n",
    "df['word_count'].describe()"
   ]
  },
  {
   "cell_type": "code",
   "execution_count": 66,
   "metadata": {},
   "outputs": [
    {
     "data": {
      "text/plain": [
       "<Axes: title={'center': 'Word Count Distribution'}, ylabel='Frequency'>"
      ]
     },
     "execution_count": 66,
     "metadata": {},
     "output_type": "execute_result"
    },
    {
     "data": {
      "image/png": "[encoded data removed]",
      "text/plain": [
       "<Figure size 640x480 with 1 Axes>"
      ]
     },
     "metadata": {},
     "output_type": "display_data"
    }
   ],
   "source": [
    "df['word_count'].plot(kind='hist', bins=50, title='Word Count Distribution')"
   ]
  },
  {
   "cell_type": "code",
   "execution_count": 67,
   "metadata": {},
   "outputs": [
    {
     "data": {
      "text/plain": [
       "<Axes: title={'center': 'Character Count Distribution'}, ylabel='Frequency'>"
      ]
     },
     "execution_count": 67,
     "metadata": {},
     "output_type": "execute_result"
    },
    {
     "data": {
      "image/png": "[encoded data removed]",
      "text/plain": [
       "<Figure size 640x480 with 1 Axes>"
      ]
     },
     "metadata": {},
     "output_type": "display_data"
    }
   ],
   "source": [
    "df['char_count'].plot(kind='hist', bins=50, title='Character Count Distribution')"
   ]
  },
  {
   "cell_type": "markdown",
   "metadata": {},
   "source": [
    "## drop the texts with char count lower than 50, greater than 300"
   ]
  },
  {
   "cell_type": "code",
   "execution_count": 68,
   "metadata": {},
   "outputs": [
    {
     "data": {
      "text/html": [
       "<div>\n",
       "<style scoped>\n",
       "    .dataframe tbody tr th:only-of-type {\n",
       "        vertical-align: middle;\n",
       "    }\n",
       "\n",
       "    .dataframe tbody tr th {\n",
       "        vertical-align: top;\n",
       "    }\n",
       "\n",
       "    .dataframe thead th {\n",
       "        text-align: right;\n",
       "    }\n",
       "</style>\n",
       "<table border=\"1\" class=\"dataframe\">\n",
       "  <thead>\n",
       "    <tr style=\"text-align: right;\">\n",
       "      <th></th>\n",
       "      <th>user_id</th>\n",
       "      <th>text</th>\n",
       "      <th>disorder</th>\n",
       "      <th>word_count</th>\n",
       "      <th>char_count</th>\n",
       "    </tr>\n",
       "  </thead>\n",
       "  <tbody>\n",
       "    <tr>\n",
       "      <th>2</th>\n",
       "      <td>3f21058fc8</td>\n",
       "      <td>I learn smthg very valuable today.\\n\\nWhen I w...</td>\n",
       "      <td>anxiety</td>\n",
       "      <td>45</td>\n",
       "      <td>284</td>\n",
       "    </tr>\n",
       "    <tr>\n",
       "      <th>3</th>\n",
       "      <td>3f21058fc8</td>\n",
       "      <td>Ohhh okay. So, to create more opportunities, ...</td>\n",
       "      <td>anxiety</td>\n",
       "      <td>26</td>\n",
       "      <td>162</td>\n",
       "    </tr>\n",
       "    <tr>\n",
       "      <th>9</th>\n",
       "      <td>3f21058fc8</td>\n",
       "      <td>Paling senang buat je. Selamat dunia akhirat ...</td>\n",
       "      <td>anxiety</td>\n",
       "      <td>11</td>\n",
       "      <td>74</td>\n",
       "    </tr>\n",
       "    <tr>\n",
       "      <th>10</th>\n",
       "      <td>3f21058fc8</td>\n",
       "      <td>I couldn't sleep. Figured out I need more stim...</td>\n",
       "      <td>anxiety</td>\n",
       "      <td>46</td>\n",
       "      <td>242</td>\n",
       "    </tr>\n",
       "    <tr>\n",
       "      <th>11</th>\n",
       "      <td>3f21058fc8</td>\n",
       "      <td>No reason to give up.\\nNo reason to stop hustl...</td>\n",
       "      <td>anxiety</td>\n",
       "      <td>23</td>\n",
       "      <td>125</td>\n",
       "    </tr>\n",
       "    <tr>\n",
       "      <th>...</th>\n",
       "      <td>...</td>\n",
       "      <td>...</td>\n",
       "      <td>...</td>\n",
       "      <td>...</td>\n",
       "      <td>...</td>\n",
       "    </tr>\n",
       "    <tr>\n",
       "      <th>32191341</th>\n",
       "      <td>c789b769d1</td>\n",
       "      <td>\"In Order For Good Things To Come Your Way , Y...</td>\n",
       "      <td>bipolar</td>\n",
       "      <td>17</td>\n",
       "      <td>85</td>\n",
       "    </tr>\n",
       "    <tr>\n",
       "      <th>32191344</th>\n",
       "      <td>c789b769d1</td>\n",
       "      <td>If you a guy/man reading this... Please treat ...</td>\n",
       "      <td>bipolar</td>\n",
       "      <td>21</td>\n",
       "      <td>161</td>\n",
       "    </tr>\n",
       "    <tr>\n",
       "      <th>32191347</th>\n",
       "      <td>c789b769d1</td>\n",
       "      <td>Someone said, \"Don't be afraid to start over a...</td>\n",
       "      <td>bipolar</td>\n",
       "      <td>20</td>\n",
       "      <td>123</td>\n",
       "    </tr>\n",
       "    <tr>\n",
       "      <th>32191352</th>\n",
       "      <td>c789b769d1</td>\n",
       "      <td>\"As you start and end your day,be thankful for...</td>\n",
       "      <td>bipolar</td>\n",
       "      <td>30</td>\n",
       "      <td>228</td>\n",
       "    </tr>\n",
       "    <tr>\n",
       "      <th>32191355</th>\n",
       "      <td>c789b769d1</td>\n",
       "      <td>Motivation quote for the evening.\\n\"All our dr...</td>\n",
       "      <td>bipolar</td>\n",
       "      <td>21</td>\n",
       "      <td>157</td>\n",
       "    </tr>\n",
       "  </tbody>\n",
       "</table>\n",
       "<p>9945941 rows × 5 columns</p>\n",
       "</div>"
      ],
      "text/plain": [
       "             user_id                                               text  \\\n",
       "2         3f21058fc8  I learn smthg very valuable today.\\n\\nWhen I w...   \n",
       "3         3f21058fc8   Ohhh okay. So, to create more opportunities, ...   \n",
       "9         3f21058fc8   Paling senang buat je. Selamat dunia akhirat ...   \n",
       "10        3f21058fc8  I couldn't sleep. Figured out I need more stim...   \n",
       "11        3f21058fc8  No reason to give up.\\nNo reason to stop hustl...   \n",
       "...              ...                                                ...   \n",
       "32191341  c789b769d1  \"In Order For Good Things To Come Your Way , Y...   \n",
       "32191344  c789b769d1  If you a guy/man reading this... Please treat ...   \n",
       "32191347  c789b769d1  Someone said, \"Don't be afraid to start over a...   \n",
       "32191352  c789b769d1  \"As you start and end your day,be thankful for...   \n",
       "32191355  c789b769d1  Motivation quote for the evening.\\n\"All our dr...   \n",
       "\n",
       "         disorder  word_count  char_count  \n",
       "2         anxiety          45         284  \n",
       "3         anxiety          26         162  \n",
       "9         anxiety          11          74  \n",
       "10        anxiety          46         242  \n",
       "11        anxiety          23         125  \n",
       "...           ...         ...         ...  \n",
       "32191341  bipolar          17          85  \n",
       "32191344  bipolar          21         161  \n",
       "32191347  bipolar          20         123  \n",
       "32191352  bipolar          30         228  \n",
       "32191355  bipolar          21         157  \n",
       "\n",
       "[9945941 rows x 5 columns]"
      ]
     },
     "execution_count": 68,
     "metadata": {},
     "output_type": "execute_result"
    }
   ],
   "source": [
    "d1 = df[df['char_count']>=50]\n",
    "d1"
   ]
  },
  {
   "cell_type": "code",
   "execution_count": 69,
   "metadata": {},
   "outputs": [
    {
     "data": {
      "text/html": [
       "<div>\n",
       "<style scoped>\n",
       "    .dataframe tbody tr th:only-of-type {\n",
       "        vertical-align: middle;\n",
       "    }\n",
       "\n",
       "    .dataframe tbody tr th {\n",
       "        vertical-align: top;\n",
       "    }\n",
       "\n",
       "    .dataframe thead th {\n",
       "        text-align: right;\n",
       "    }\n",
       "</style>\n",
       "<table border=\"1\" class=\"dataframe\">\n",
       "  <thead>\n",
       "    <tr style=\"text-align: right;\">\n",
       "      <th></th>\n",
       "      <th>user_id</th>\n",
       "      <th>text</th>\n",
       "      <th>disorder</th>\n",
       "      <th>word_count</th>\n",
       "      <th>char_count</th>\n",
       "    </tr>\n",
       "  </thead>\n",
       "  <tbody>\n",
       "    <tr>\n",
       "      <th>9</th>\n",
       "      <td>3f21058fc8</td>\n",
       "      <td>Paling senang buat je. Selamat dunia akhirat ...</td>\n",
       "      <td>anxiety</td>\n",
       "      <td>11</td>\n",
       "      <td>74</td>\n",
       "    </tr>\n",
       "    <tr>\n",
       "      <th>11</th>\n",
       "      <td>3f21058fc8</td>\n",
       "      <td>No reason to give up.\\nNo reason to stop hustl...</td>\n",
       "      <td>anxiety</td>\n",
       "      <td>23</td>\n",
       "      <td>125</td>\n",
       "    </tr>\n",
       "    <tr>\n",
       "      <th>14</th>\n",
       "      <td>3f21058fc8</td>\n",
       "      <td>Back to basic, dengar strategy sharing tuan a...</td>\n",
       "      <td>anxiety</td>\n",
       "      <td>17</td>\n",
       "      <td>114</td>\n",
       "    </tr>\n",
       "    <tr>\n",
       "      <th>15</th>\n",
       "      <td>3f21058fc8</td>\n",
       "      <td>Yup. it's thing for their peers. Sekolah lain...</td>\n",
       "      <td>anxiety</td>\n",
       "      <td>14</td>\n",
       "      <td>82</td>\n",
       "    </tr>\n",
       "    <tr>\n",
       "      <th>18</th>\n",
       "      <td>3f21058fc8</td>\n",
       "      <td>Yes please! I have a lot of important HR ques...</td>\n",
       "      <td>anxiety</td>\n",
       "      <td>13</td>\n",
       "      <td>62</td>\n",
       "    </tr>\n",
       "    <tr>\n",
       "      <th>...</th>\n",
       "      <td>...</td>\n",
       "      <td>...</td>\n",
       "      <td>...</td>\n",
       "      <td>...</td>\n",
       "      <td>...</td>\n",
       "    </tr>\n",
       "    <tr>\n",
       "      <th>32191331</th>\n",
       "      <td>c789b769d1</td>\n",
       "      <td>You Were Given,\\nTHIS LIFE.\\nBecause You Are S...</td>\n",
       "      <td>bipolar</td>\n",
       "      <td>15</td>\n",
       "      <td>99</td>\n",
       "    </tr>\n",
       "    <tr>\n",
       "      <th>32191334</th>\n",
       "      <td>c789b769d1</td>\n",
       "      <td>\"In Order To Succeed greatly, You Have To Be P...</td>\n",
       "      <td>bipolar</td>\n",
       "      <td>15</td>\n",
       "      <td>107</td>\n",
       "    </tr>\n",
       "    <tr>\n",
       "      <th>32191340</th>\n",
       "      <td>c789b769d1</td>\n",
       "      <td>Good morning,It has taught me that Self car...</td>\n",
       "      <td>bipolar</td>\n",
       "      <td>14</td>\n",
       "      <td>95</td>\n",
       "    </tr>\n",
       "    <tr>\n",
       "      <th>32191341</th>\n",
       "      <td>c789b769d1</td>\n",
       "      <td>\"In Order For Good Things To Come Your Way , Y...</td>\n",
       "      <td>bipolar</td>\n",
       "      <td>17</td>\n",
       "      <td>85</td>\n",
       "    </tr>\n",
       "    <tr>\n",
       "      <th>32191347</th>\n",
       "      <td>c789b769d1</td>\n",
       "      <td>Someone said, \"Don't be afraid to start over a...</td>\n",
       "      <td>bipolar</td>\n",
       "      <td>20</td>\n",
       "      <td>123</td>\n",
       "    </tr>\n",
       "  </tbody>\n",
       "</table>\n",
       "<p>7295285 rows × 5 columns</p>\n",
       "</div>"
      ],
      "text/plain": [
       "             user_id                                               text  \\\n",
       "9         3f21058fc8   Paling senang buat je. Selamat dunia akhirat ...   \n",
       "11        3f21058fc8  No reason to give up.\\nNo reason to stop hustl...   \n",
       "14        3f21058fc8   Back to basic, dengar strategy sharing tuan a...   \n",
       "15        3f21058fc8   Yup. it's thing for their peers. Sekolah lain...   \n",
       "18        3f21058fc8   Yes please! I have a lot of important HR ques...   \n",
       "...              ...                                                ...   \n",
       "32191331  c789b769d1  You Were Given,\\nTHIS LIFE.\\nBecause You Are S...   \n",
       "32191334  c789b769d1  \"In Order To Succeed greatly, You Have To Be P...   \n",
       "32191340  c789b769d1     Good morning,It has taught me that Self car...   \n",
       "32191341  c789b769d1  \"In Order For Good Things To Come Your Way , Y...   \n",
       "32191347  c789b769d1  Someone said, \"Don't be afraid to start over a...   \n",
       "\n",
       "         disorder  word_count  char_count  \n",
       "9         anxiety          11          74  \n",
       "11        anxiety          23         125  \n",
       "14        anxiety          17         114  \n",
       "15        anxiety          14          82  \n",
       "18        anxiety          13          62  \n",
       "...           ...         ...         ...  \n",
       "32191331  bipolar          15          99  \n",
       "32191334  bipolar          15         107  \n",
       "32191340  bipolar          14          95  \n",
       "32191341  bipolar          17          85  \n",
       "32191347  bipolar          20         123  \n",
       "\n",
       "[7295285 rows x 5 columns]"
      ]
     },
     "execution_count": 69,
     "metadata": {},
     "output_type": "execute_result"
    }
   ],
   "source": [
    "d2 = d1[d1['char_count']<=150]\n",
    "d2"
   ]
  },
  {
   "cell_type": "code",
   "execution_count": 70,
   "metadata": {},
   "outputs": [
    {
     "data": {
      "text/html": [
       "<div>\n",
       "<style scoped>\n",
       "    .dataframe tbody tr th:only-of-type {\n",
       "        vertical-align: middle;\n",
       "    }\n",
       "\n",
       "    .dataframe tbody tr th {\n",
       "        vertical-align: top;\n",
       "    }\n",
       "\n",
       "    .dataframe thead th {\n",
       "        text-align: right;\n",
       "    }\n",
       "</style>\n",
       "<table border=\"1\" class=\"dataframe\">\n",
       "  <thead>\n",
       "    <tr style=\"text-align: right;\">\n",
       "      <th></th>\n",
       "      <th>user_id</th>\n",
       "      <th>text</th>\n",
       "      <th>disorder</th>\n",
       "      <th>word_count</th>\n",
       "      <th>char_count</th>\n",
       "    </tr>\n",
       "  </thead>\n",
       "  <tbody>\n",
       "    <tr>\n",
       "      <th>0</th>\n",
       "      <td>3f21058fc8</td>\n",
       "      <td>Paling senang buat je. Selamat dunia akhirat ...</td>\n",
       "      <td>anxiety</td>\n",
       "      <td>11</td>\n",
       "      <td>74</td>\n",
       "    </tr>\n",
       "    <tr>\n",
       "      <th>1</th>\n",
       "      <td>3f21058fc8</td>\n",
       "      <td>No reason to give up.\\nNo reason to stop hustl...</td>\n",
       "      <td>anxiety</td>\n",
       "      <td>23</td>\n",
       "      <td>125</td>\n",
       "    </tr>\n",
       "    <tr>\n",
       "      <th>2</th>\n",
       "      <td>3f21058fc8</td>\n",
       "      <td>Back to basic, dengar strategy sharing tuan a...</td>\n",
       "      <td>anxiety</td>\n",
       "      <td>17</td>\n",
       "      <td>114</td>\n",
       "    </tr>\n",
       "    <tr>\n",
       "      <th>3</th>\n",
       "      <td>3f21058fc8</td>\n",
       "      <td>Yup. it's thing for their peers. Sekolah lain...</td>\n",
       "      <td>anxiety</td>\n",
       "      <td>14</td>\n",
       "      <td>82</td>\n",
       "    </tr>\n",
       "    <tr>\n",
       "      <th>4</th>\n",
       "      <td>3f21058fc8</td>\n",
       "      <td>Yes please! I have a lot of important HR ques...</td>\n",
       "      <td>anxiety</td>\n",
       "      <td>13</td>\n",
       "      <td>62</td>\n",
       "    </tr>\n",
       "    <tr>\n",
       "      <th>...</th>\n",
       "      <td>...</td>\n",
       "      <td>...</td>\n",
       "      <td>...</td>\n",
       "      <td>...</td>\n",
       "      <td>...</td>\n",
       "    </tr>\n",
       "    <tr>\n",
       "      <th>10140678</th>\n",
       "      <td>c789b769d1</td>\n",
       "      <td>You Were Given,\\nTHIS LIFE.\\nBecause You Are S...</td>\n",
       "      <td>bipolar</td>\n",
       "      <td>15</td>\n",
       "      <td>99</td>\n",
       "    </tr>\n",
       "    <tr>\n",
       "      <th>10140679</th>\n",
       "      <td>c789b769d1</td>\n",
       "      <td>\"In Order To Succeed greatly, You Have To Be P...</td>\n",
       "      <td>bipolar</td>\n",
       "      <td>15</td>\n",
       "      <td>107</td>\n",
       "    </tr>\n",
       "    <tr>\n",
       "      <th>10140680</th>\n",
       "      <td>c789b769d1</td>\n",
       "      <td>Good morning,It has taught me that Self car...</td>\n",
       "      <td>bipolar</td>\n",
       "      <td>14</td>\n",
       "      <td>95</td>\n",
       "    </tr>\n",
       "    <tr>\n",
       "      <th>10140681</th>\n",
       "      <td>c789b769d1</td>\n",
       "      <td>\"In Order For Good Things To Come Your Way , Y...</td>\n",
       "      <td>bipolar</td>\n",
       "      <td>17</td>\n",
       "      <td>85</td>\n",
       "    </tr>\n",
       "    <tr>\n",
       "      <th>10140682</th>\n",
       "      <td>c789b769d1</td>\n",
       "      <td>Someone said, \"Don't be afraid to start over a...</td>\n",
       "      <td>bipolar</td>\n",
       "      <td>20</td>\n",
       "      <td>123</td>\n",
       "    </tr>\n",
       "  </tbody>\n",
       "</table>\n",
       "<p>10140683 rows × 5 columns</p>\n",
       "</div>"
      ],
      "text/plain": [
       "             user_id                                               text  \\\n",
       "0         3f21058fc8   Paling senang buat je. Selamat dunia akhirat ...   \n",
       "1         3f21058fc8  No reason to give up.\\nNo reason to stop hustl...   \n",
       "2         3f21058fc8   Back to basic, dengar strategy sharing tuan a...   \n",
       "3         3f21058fc8   Yup. it's thing for their peers. Sekolah lain...   \n",
       "4         3f21058fc8   Yes please! I have a lot of important HR ques...   \n",
       "...              ...                                                ...   \n",
       "10140678  c789b769d1  You Were Given,\\nTHIS LIFE.\\nBecause You Are S...   \n",
       "10140679  c789b769d1  \"In Order To Succeed greatly, You Have To Be P...   \n",
       "10140680  c789b769d1     Good morning,It has taught me that Self car...   \n",
       "10140681  c789b769d1  \"In Order For Good Things To Come Your Way , Y...   \n",
       "10140682  c789b769d1  Someone said, \"Don't be afraid to start over a...   \n",
       "\n",
       "         disorder  word_count  char_count  \n",
       "0         anxiety          11          74  \n",
       "1         anxiety          23         125  \n",
       "2         anxiety          17         114  \n",
       "3         anxiety          14          82  \n",
       "4         anxiety          13          62  \n",
       "...           ...         ...         ...  \n",
       "10140678  bipolar          15          99  \n",
       "10140679  bipolar          15         107  \n",
       "10140680  bipolar          14          95  \n",
       "10140681  bipolar          17          85  \n",
       "10140682  bipolar          20         123  \n",
       "\n",
       "[10140683 rows x 5 columns]"
      ]
     },
     "execution_count": 70,
     "metadata": {},
     "output_type": "execute_result"
    }
   ],
   "source": [
    "## intersect d1 and d2\n",
    "\n",
    "d3 = d1.merge(d2, how='inner')\n",
    "d3"
   ]
  },
  {
   "cell_type": "code",
   "execution_count": 71,
   "metadata": {},
   "outputs": [
    {
     "data": {
      "text/plain": [
       "count    1.014068e+07\n",
       "mean     8.454324e+01\n",
       "std      2.670647e+01\n",
       "min      5.000000e+01\n",
       "25%      6.200000e+01\n",
       "50%      7.700000e+01\n",
       "75%      1.070000e+02\n",
       "max      1.500000e+02\n",
       "Name: char_count, dtype: float64"
      ]
     },
     "execution_count": 71,
     "metadata": {},
     "output_type": "execute_result"
    }
   ],
   "source": [
    "d3['char_count'].describe()"
   ]
  },
  {
   "cell_type": "code",
   "execution_count": 72,
   "metadata": {},
   "outputs": [
    {
     "data": {
      "text/plain": [
       "count    1.014068e+07\n",
       "mean     1.450600e+01\n",
       "std      5.752945e+00\n",
       "min      0.000000e+00\n",
       "25%      1.100000e+01\n",
       "50%      1.300000e+01\n",
       "75%      1.800000e+01\n",
       "max      7.100000e+01\n",
       "Name: word_count, dtype: float64"
      ]
     },
     "execution_count": 72,
     "metadata": {},
     "output_type": "execute_result"
    }
   ],
   "source": [
    "d3['word_count'].describe()"
   ]
  },
  {
   "cell_type": "code",
   "execution_count": 73,
   "metadata": {},
   "outputs": [
    {
     "data": {
      "text/plain": [
       "<Axes: title={'center': 'Word Count Distribution'}, ylabel='Frequency'>"
      ]
     },
     "execution_count": 73,
     "metadata": {},
     "output_type": "execute_result"
    },
    {
     "data": {
      "image/png": "[encoded data removed]",
      "text/plain": [
       "<Figure size 640x480 with 1 Axes>"
      ]
     },
     "metadata": {},
     "output_type": "display_data"
    }
   ],
   "source": [
    "d3['word_count'].plot(kind='hist', bins=50, title='Word Count Distribution')"
   ]
  },
  {
   "cell_type": "markdown",
   "metadata": {},
   "source": [
    "## dropping based on word count, between 5 and 30"
   ]
  },
  {
   "cell_type": "code",
   "execution_count": 88,
   "metadata": {},
   "outputs": [
    {
     "data": {
      "text/html": [
       "<div>\n",
       "<style scoped>\n",
       "    .dataframe tbody tr th:only-of-type {\n",
       "        vertical-align: middle;\n",
       "    }\n",
       "\n",
       "    .dataframe tbody tr th {\n",
       "        vertical-align: top;\n",
       "    }\n",
       "\n",
       "    .dataframe thead th {\n",
       "        text-align: right;\n",
       "    }\n",
       "</style>\n",
       "<table border=\"1\" class=\"dataframe\">\n",
       "  <thead>\n",
       "    <tr style=\"text-align: right;\">\n",
       "      <th></th>\n",
       "      <th>user_id</th>\n",
       "      <th>text</th>\n",
       "      <th>disorder</th>\n",
       "      <th>word_count</th>\n",
       "      <th>char_count</th>\n",
       "      <th>text_len</th>\n",
       "    </tr>\n",
       "  </thead>\n",
       "  <tbody>\n",
       "    <tr>\n",
       "      <th>0</th>\n",
       "      <td>3f21058fc8</td>\n",
       "      <td>Paling senang buat je. Selamat dunia akhirat ...</td>\n",
       "      <td>anxiety</td>\n",
       "      <td>11</td>\n",
       "      <td>74</td>\n",
       "      <td>74</td>\n",
       "    </tr>\n",
       "    <tr>\n",
       "      <th>1</th>\n",
       "      <td>3f21058fc8</td>\n",
       "      <td>No reason to give up.\\nNo reason to stop hustl...</td>\n",
       "      <td>anxiety</td>\n",
       "      <td>23</td>\n",
       "      <td>125</td>\n",
       "      <td>125</td>\n",
       "    </tr>\n",
       "    <tr>\n",
       "      <th>2</th>\n",
       "      <td>3f21058fc8</td>\n",
       "      <td>Back to basic, dengar strategy sharing tuan a...</td>\n",
       "      <td>anxiety</td>\n",
       "      <td>17</td>\n",
       "      <td>114</td>\n",
       "      <td>114</td>\n",
       "    </tr>\n",
       "    <tr>\n",
       "      <th>3</th>\n",
       "      <td>3f21058fc8</td>\n",
       "      <td>Yup. it's thing for their peers. Sekolah lain...</td>\n",
       "      <td>anxiety</td>\n",
       "      <td>14</td>\n",
       "      <td>82</td>\n",
       "      <td>82</td>\n",
       "    </tr>\n",
       "    <tr>\n",
       "      <th>4</th>\n",
       "      <td>3f21058fc8</td>\n",
       "      <td>Yes please! I have a lot of important HR ques...</td>\n",
       "      <td>anxiety</td>\n",
       "      <td>13</td>\n",
       "      <td>62</td>\n",
       "      <td>62</td>\n",
       "    </tr>\n",
       "    <tr>\n",
       "      <th>...</th>\n",
       "      <td>...</td>\n",
       "      <td>...</td>\n",
       "      <td>...</td>\n",
       "      <td>...</td>\n",
       "      <td>...</td>\n",
       "      <td>...</td>\n",
       "    </tr>\n",
       "    <tr>\n",
       "      <th>10140678</th>\n",
       "      <td>c789b769d1</td>\n",
       "      <td>You Were Given,\\nTHIS LIFE.\\nBecause You Are S...</td>\n",
       "      <td>bipolar</td>\n",
       "      <td>15</td>\n",
       "      <td>99</td>\n",
       "      <td>99</td>\n",
       "    </tr>\n",
       "    <tr>\n",
       "      <th>10140679</th>\n",
       "      <td>c789b769d1</td>\n",
       "      <td>\"In Order To Succeed greatly, You Have To Be P...</td>\n",
       "      <td>bipolar</td>\n",
       "      <td>15</td>\n",
       "      <td>107</td>\n",
       "      <td>107</td>\n",
       "    </tr>\n",
       "    <tr>\n",
       "      <th>10140680</th>\n",
       "      <td>c789b769d1</td>\n",
       "      <td>Good morning,It has taught me that Self car...</td>\n",
       "      <td>bipolar</td>\n",
       "      <td>14</td>\n",
       "      <td>95</td>\n",
       "      <td>95</td>\n",
       "    </tr>\n",
       "    <tr>\n",
       "      <th>10140681</th>\n",
       "      <td>c789b769d1</td>\n",
       "      <td>\"In Order For Good Things To Come Your Way , Y...</td>\n",
       "      <td>bipolar</td>\n",
       "      <td>17</td>\n",
       "      <td>85</td>\n",
       "      <td>85</td>\n",
       "    </tr>\n",
       "    <tr>\n",
       "      <th>10140682</th>\n",
       "      <td>c789b769d1</td>\n",
       "      <td>Someone said, \"Don't be afraid to start over a...</td>\n",
       "      <td>bipolar</td>\n",
       "      <td>20</td>\n",
       "      <td>123</td>\n",
       "      <td>123</td>\n",
       "    </tr>\n",
       "  </tbody>\n",
       "</table>\n",
       "<p>9754872 rows × 6 columns</p>\n",
       "</div>"
      ],
      "text/plain": [
       "             user_id                                               text  \\\n",
       "0         3f21058fc8   Paling senang buat je. Selamat dunia akhirat ...   \n",
       "1         3f21058fc8  No reason to give up.\\nNo reason to stop hustl...   \n",
       "2         3f21058fc8   Back to basic, dengar strategy sharing tuan a...   \n",
       "3         3f21058fc8   Yup. it's thing for their peers. Sekolah lain...   \n",
       "4         3f21058fc8   Yes please! I have a lot of important HR ques...   \n",
       "...              ...                                                ...   \n",
       "10140678  c789b769d1  You Were Given,\\nTHIS LIFE.\\nBecause You Are S...   \n",
       "10140679  c789b769d1  \"In Order To Succeed greatly, You Have To Be P...   \n",
       "10140680  c789b769d1     Good morning,It has taught me that Self car...   \n",
       "10140681  c789b769d1  \"In Order For Good Things To Come Your Way , Y...   \n",
       "10140682  c789b769d1  Someone said, \"Don't be afraid to start over a...   \n",
       "\n",
       "         disorder  word_count  char_count  text_len  \n",
       "0         anxiety          11          74        74  \n",
       "1         anxiety          23         125       125  \n",
       "2         anxiety          17         114       114  \n",
       "3         anxiety          14          82        82  \n",
       "4         anxiety          13          62        62  \n",
       "...           ...         ...         ...       ...  \n",
       "10140678  bipolar          15          99        99  \n",
       "10140679  bipolar          15         107       107  \n",
       "10140680  bipolar          14          95        95  \n",
       "10140681  bipolar          17          85        85  \n",
       "10140682  bipolar          20         123       123  \n",
       "\n",
       "[9754872 rows x 6 columns]"
      ]
     },
     "execution_count": 88,
     "metadata": {},
     "output_type": "execute_result"
    }
   ],
   "source": [
    "d3 = d3[d3['word_count']<=30]\n",
    "d3"
   ]
  },
  {
   "cell_type": "code",
   "execution_count": 89,
   "metadata": {},
   "outputs": [
    {
     "data": {
      "text/html": [
       "<div>\n",
       "<style scoped>\n",
       "    .dataframe tbody tr th:only-of-type {\n",
       "        vertical-align: middle;\n",
       "    }\n",
       "\n",
       "    .dataframe tbody tr th {\n",
       "        vertical-align: top;\n",
       "    }\n",
       "\n",
       "    .dataframe thead th {\n",
       "        text-align: right;\n",
       "    }\n",
       "</style>\n",
       "<table border=\"1\" class=\"dataframe\">\n",
       "  <thead>\n",
       "    <tr style=\"text-align: right;\">\n",
       "      <th></th>\n",
       "      <th>user_id</th>\n",
       "      <th>text</th>\n",
       "      <th>disorder</th>\n",
       "      <th>word_count</th>\n",
       "      <th>char_count</th>\n",
       "      <th>text_len</th>\n",
       "    </tr>\n",
       "  </thead>\n",
       "  <tbody>\n",
       "    <tr>\n",
       "      <th>0</th>\n",
       "      <td>3f21058fc8</td>\n",
       "      <td>Paling senang buat je. Selamat dunia akhirat ...</td>\n",
       "      <td>anxiety</td>\n",
       "      <td>11</td>\n",
       "      <td>74</td>\n",
       "      <td>74</td>\n",
       "    </tr>\n",
       "    <tr>\n",
       "      <th>1</th>\n",
       "      <td>3f21058fc8</td>\n",
       "      <td>No reason to give up.\\nNo reason to stop hustl...</td>\n",
       "      <td>anxiety</td>\n",
       "      <td>23</td>\n",
       "      <td>125</td>\n",
       "      <td>125</td>\n",
       "    </tr>\n",
       "    <tr>\n",
       "      <th>2</th>\n",
       "      <td>3f21058fc8</td>\n",
       "      <td>Back to basic, dengar strategy sharing tuan a...</td>\n",
       "      <td>anxiety</td>\n",
       "      <td>17</td>\n",
       "      <td>114</td>\n",
       "      <td>114</td>\n",
       "    </tr>\n",
       "    <tr>\n",
       "      <th>3</th>\n",
       "      <td>3f21058fc8</td>\n",
       "      <td>Yup. it's thing for their peers. Sekolah lain...</td>\n",
       "      <td>anxiety</td>\n",
       "      <td>14</td>\n",
       "      <td>82</td>\n",
       "      <td>82</td>\n",
       "    </tr>\n",
       "    <tr>\n",
       "      <th>4</th>\n",
       "      <td>3f21058fc8</td>\n",
       "      <td>Yes please! I have a lot of important HR ques...</td>\n",
       "      <td>anxiety</td>\n",
       "      <td>13</td>\n",
       "      <td>62</td>\n",
       "      <td>62</td>\n",
       "    </tr>\n",
       "    <tr>\n",
       "      <th>...</th>\n",
       "      <td>...</td>\n",
       "      <td>...</td>\n",
       "      <td>...</td>\n",
       "      <td>...</td>\n",
       "      <td>...</td>\n",
       "      <td>...</td>\n",
       "    </tr>\n",
       "    <tr>\n",
       "      <th>10140678</th>\n",
       "      <td>c789b769d1</td>\n",
       "      <td>You Were Given,\\nTHIS LIFE.\\nBecause You Are S...</td>\n",
       "      <td>bipolar</td>\n",
       "      <td>15</td>\n",
       "      <td>99</td>\n",
       "      <td>99</td>\n",
       "    </tr>\n",
       "    <tr>\n",
       "      <th>10140679</th>\n",
       "      <td>c789b769d1</td>\n",
       "      <td>\"In Order To Succeed greatly, You Have To Be P...</td>\n",
       "      <td>bipolar</td>\n",
       "      <td>15</td>\n",
       "      <td>107</td>\n",
       "      <td>107</td>\n",
       "    </tr>\n",
       "    <tr>\n",
       "      <th>10140680</th>\n",
       "      <td>c789b769d1</td>\n",
       "      <td>Good morning,It has taught me that Self car...</td>\n",
       "      <td>bipolar</td>\n",
       "      <td>14</td>\n",
       "      <td>95</td>\n",
       "      <td>95</td>\n",
       "    </tr>\n",
       "    <tr>\n",
       "      <th>10140681</th>\n",
       "      <td>c789b769d1</td>\n",
       "      <td>\"In Order For Good Things To Come Your Way , Y...</td>\n",
       "      <td>bipolar</td>\n",
       "      <td>17</td>\n",
       "      <td>85</td>\n",
       "      <td>85</td>\n",
       "    </tr>\n",
       "    <tr>\n",
       "      <th>10140682</th>\n",
       "      <td>c789b769d1</td>\n",
       "      <td>Someone said, \"Don't be afraid to start over a...</td>\n",
       "      <td>bipolar</td>\n",
       "      <td>20</td>\n",
       "      <td>123</td>\n",
       "      <td>123</td>\n",
       "    </tr>\n",
       "  </tbody>\n",
       "</table>\n",
       "<p>9754872 rows × 6 columns</p>\n",
       "</div>"
      ],
      "text/plain": [
       "             user_id                                               text  \\\n",
       "0         3f21058fc8   Paling senang buat je. Selamat dunia akhirat ...   \n",
       "1         3f21058fc8  No reason to give up.\\nNo reason to stop hustl...   \n",
       "2         3f21058fc8   Back to basic, dengar strategy sharing tuan a...   \n",
       "3         3f21058fc8   Yup. it's thing for their peers. Sekolah lain...   \n",
       "4         3f21058fc8   Yes please! I have a lot of important HR ques...   \n",
       "...              ...                                                ...   \n",
       "10140678  c789b769d1  You Were Given,\\nTHIS LIFE.\\nBecause You Are S...   \n",
       "10140679  c789b769d1  \"In Order To Succeed greatly, You Have To Be P...   \n",
       "10140680  c789b769d1     Good morning,It has taught me that Self car...   \n",
       "10140681  c789b769d1  \"In Order For Good Things To Come Your Way , Y...   \n",
       "10140682  c789b769d1  Someone said, \"Don't be afraid to start over a...   \n",
       "\n",
       "         disorder  word_count  char_count  text_len  \n",
       "0         anxiety          11          74        74  \n",
       "1         anxiety          23         125       125  \n",
       "2         anxiety          17         114       114  \n",
       "3         anxiety          14          82        82  \n",
       "4         anxiety          13          62        62  \n",
       "...           ...         ...         ...       ...  \n",
       "10140678  bipolar          15          99        99  \n",
       "10140679  bipolar          15         107       107  \n",
       "10140680  bipolar          14          95        95  \n",
       "10140681  bipolar          17          85        85  \n",
       "10140682  bipolar          20         123       123  \n",
       "\n",
       "[9754872 rows x 6 columns]"
      ]
     },
     "execution_count": 89,
     "metadata": {},
     "output_type": "execute_result"
    }
   ],
   "source": [
    "d3 = d3[d3['word_count']>=5]\n",
    "d3"
   ]
  },
  {
   "cell_type": "code",
   "execution_count": 90,
   "metadata": {},
   "outputs": [
    {
     "data": {
      "text/plain": [
       "count    9.754872e+06\n",
       "mean     8.507560e+01\n",
       "std      2.672162e+01\n",
       "min      5.000000e+01\n",
       "25%      6.200000e+01\n",
       "50%      7.800000e+01\n",
       "75%      1.080000e+02\n",
       "max      1.500000e+02\n",
       "Name: text_len, dtype: float64"
      ]
     },
     "execution_count": 90,
     "metadata": {},
     "output_type": "execute_result"
    }
   ],
   "source": [
    "d3['text_len'] = d3['text'].apply(len)\n",
    "\n",
    "d3['text_len'].describe()"
   ]
  },
  {
   "cell_type": "code",
   "execution_count": 91,
   "metadata": {},
   "outputs": [
    {
     "data": {
      "text/plain": [
       "<Axes: title={'center': 'Text Length Distribution'}, ylabel='Frequency'>"
      ]
     },
     "execution_count": 91,
     "metadata": {},
     "output_type": "execute_result"
    },
    {
     "data": {
      "image/png": "[encoded data removed]",
      "text/plain": [
       "<Figure size 640x480 with 1 Axes>"
      ]
     },
     "metadata": {},
     "output_type": "display_data"
    }
   ],
   "source": [
    "d3['text_len'].plot(kind='hist', bins=50, title='Text Length Distribution')"
   ]
  },
  {
   "cell_type": "code",
   "execution_count": 92,
   "metadata": {},
   "outputs": [
    {
     "data": {
      "text/plain": [
       "<Axes: title={'center': 'Word Count Distribution'}, ylabel='Frequency'>"
      ]
     },
     "execution_count": 92,
     "metadata": {},
     "output_type": "execute_result"
    },
    {
     "data": {
      "image/png": "[encoded data removed]",
      "text/plain": [
       "<Figure size 640x480 with 1 Axes>"
      ]
     },
     "metadata": {},
     "output_type": "display_data"
    }
   ],
   "source": [
    "d3['word_count'].plot(kind='hist', bins=50, title='Word Count Distribution')"
   ]
  },
  {
   "cell_type": "markdown",
   "metadata": {},
   "source": [
    "## dropping based on number of tweets per user"
   ]
  },
  {
   "cell_type": "code",
   "execution_count": 93,
   "metadata": {},
   "outputs": [],
   "source": [
    "tweets_per_user = d3.groupby('user_id')['text'].count()\n",
    "tweets_per_user_class = d3.groupby(['user_id', 'disorder'])['text'].count()"
   ]
  },
  {
   "cell_type": "code",
   "execution_count": 94,
   "metadata": {},
   "outputs": [
    {
     "data": {
      "text/plain": [
       "<Axes: title={'center': 'Tweets per User Distribution'}, ylabel='Frequency'>"
      ]
     },
     "execution_count": 94,
     "metadata": {},
     "output_type": "execute_result"
    },
    {
     "data": {
      "image/png": "[encoded data removed]",
      "text/plain": [
       "<Figure size 640x480 with 1 Axes>"
      ]
     },
     "metadata": {},
     "output_type": "display_data"
    }
   ],
   "source": [
    "tweets_per_user.plot(kind='hist', bins=50, title='Tweets per User Distribution')"
   ]
  },
  {
   "cell_type": "code",
   "execution_count": 95,
   "metadata": {},
   "outputs": [
    {
     "data": {
      "text/plain": [
       "<Axes: title={'center': 'Tweets per User Distribution'}, ylabel='Frequency'>"
      ]
     },
     "execution_count": 95,
     "metadata": {},
     "output_type": "execute_result"
    },
    {
     "data": {
      "image/png": "[encoded data removed]",
      "text/plain": [
       "<Figure size 640x480 with 1 Axes>"
      ]
     },
     "metadata": {},
     "output_type": "display_data"
    }
   ],
   "source": [
    "## make it log scale\n",
    "tweets_per_user.plot(kind='hist', bins=50, title='Tweets per User Distribution', log=True)\n"
   ]
  },
  {
   "cell_type": "code",
   "execution_count": 99,
   "metadata": {},
   "outputs": [
    {
     "data": {
      "text/plain": [
       "count     18074.000000\n",
       "mean        539.718491\n",
       "std        5273.248956\n",
       "min           1.000000\n",
       "25%         127.000000\n",
       "50%         302.000000\n",
       "75%         579.000000\n",
       "max      467414.000000\n",
       "Name: text, dtype: float64"
      ]
     },
     "execution_count": 99,
     "metadata": {},
     "output_type": "execute_result"
    }
   ],
   "source": [
    "tweets_per_user.describe()"
   ]
  },
  {
   "cell_type": "code",
   "execution_count": 106,
   "metadata": {},
   "outputs": [
    {
     "data": {
      "text/plain": [
       "text\n",
       "1      107\n",
       "2       81\n",
       "3       76\n",
       "5       65\n",
       "8       62\n",
       "      ... \n",
       "111     16\n",
       "293     16\n",
       "140     16\n",
       "296     15\n",
       "280     14\n",
       "Name: count, Length: 299, dtype: int64"
      ]
     },
     "execution_count": 106,
     "metadata": {},
     "output_type": "execute_result"
    }
   ],
   "source": [
    "tweets_per_user[tweets_per_user <300].value_counts()"
   ]
  },
  {
   "cell_type": "code",
   "execution_count": 107,
   "metadata": {},
   "outputs": [
    {
     "data": {
      "text/plain": [
       "<Axes: title={'center': 'Tweets per User Distribution'}, ylabel='Frequency'>"
      ]
     },
     "execution_count": 107,
     "metadata": {},
     "output_type": "execute_result"
    },
    {
     "data": {
      "image/png": "[encoded data removed]",
      "text/plain": [
       "<Figure size 640x480 with 1 Axes>"
      ]
     },
     "metadata": {},
     "output_type": "display_data"
    }
   ],
   "source": [
    "tweets_per_user[tweets_per_user <300].plot(kind='hist', bins=50, title='Tweets per User Distribution')"
   ]
  },
  {
   "cell_type": "code",
   "execution_count": 108,
   "metadata": {},
   "outputs": [],
   "source": [
    "## filter out users with more than 300 tweets\n",
    "d4 = d3[d3['user_id'].isin(tweets_per_user[tweets_per_user <300].index)]"
   ]
  },
  {
   "cell_type": "code",
   "execution_count": 110,
   "metadata": {},
   "outputs": [
    {
     "data": {
      "text/html": [
       "<div>\n",
       "<style scoped>\n",
       "    .dataframe tbody tr th:only-of-type {\n",
       "        vertical-align: middle;\n",
       "    }\n",
       "\n",
       "    .dataframe tbody tr th {\n",
       "        vertical-align: top;\n",
       "    }\n",
       "\n",
       "    .dataframe thead th {\n",
       "        text-align: right;\n",
       "    }\n",
       "</style>\n",
       "<table border=\"1\" class=\"dataframe\">\n",
       "  <thead>\n",
       "    <tr style=\"text-align: right;\">\n",
       "      <th></th>\n",
       "      <th>user_id</th>\n",
       "      <th>text</th>\n",
       "      <th>disorder</th>\n",
       "      <th>word_count</th>\n",
       "      <th>char_count</th>\n",
       "      <th>text_len</th>\n",
       "    </tr>\n",
       "  </thead>\n",
       "  <tbody>\n",
       "    <tr>\n",
       "      <th>2683</th>\n",
       "      <td>a09ed9ede4</td>\n",
       "      <td>Do people on onlyfans like masc lesbians that ...</td>\n",
       "      <td>anxiety</td>\n",
       "      <td>26</td>\n",
       "      <td>136</td>\n",
       "      <td>136</td>\n",
       "    </tr>\n",
       "    <tr>\n",
       "      <th>2684</th>\n",
       "      <td>a09ed9ede4</td>\n",
       "      <td>You're gonna get married long before any of u...</td>\n",
       "      <td>anxiety</td>\n",
       "      <td>10</td>\n",
       "      <td>52</td>\n",
       "      <td>52</td>\n",
       "    </tr>\n",
       "    <tr>\n",
       "      <th>2685</th>\n",
       "      <td>a09ed9ede4</td>\n",
       "      <td>I also didnt take my ADHD meds today bc I lite...</td>\n",
       "      <td>anxiety</td>\n",
       "      <td>23</td>\n",
       "      <td>112</td>\n",
       "      <td>112</td>\n",
       "    </tr>\n",
       "    <tr>\n",
       "      <th>2686</th>\n",
       "      <td>a09ed9ede4</td>\n",
       "      <td>I woke up the sickest I've been in a long time...</td>\n",
       "      <td>anxiety</td>\n",
       "      <td>28</td>\n",
       "      <td>129</td>\n",
       "      <td>129</td>\n",
       "    </tr>\n",
       "    <tr>\n",
       "      <th>2687</th>\n",
       "      <td>a09ed9ede4</td>\n",
       "      <td>Why are so many people my age dating high scho...</td>\n",
       "      <td>anxiety</td>\n",
       "      <td>15</td>\n",
       "      <td>72</td>\n",
       "      <td>72</td>\n",
       "    </tr>\n",
       "    <tr>\n",
       "      <th>...</th>\n",
       "      <td>...</td>\n",
       "      <td>...</td>\n",
       "      <td>...</td>\n",
       "      <td>...</td>\n",
       "      <td>...</td>\n",
       "      <td>...</td>\n",
       "    </tr>\n",
       "    <tr>\n",
       "      <th>10140678</th>\n",
       "      <td>c789b769d1</td>\n",
       "      <td>You Were Given,\\nTHIS LIFE.\\nBecause You Are S...</td>\n",
       "      <td>bipolar</td>\n",
       "      <td>15</td>\n",
       "      <td>99</td>\n",
       "      <td>99</td>\n",
       "    </tr>\n",
       "    <tr>\n",
       "      <th>10140679</th>\n",
       "      <td>c789b769d1</td>\n",
       "      <td>\"In Order To Succeed greatly, You Have To Be P...</td>\n",
       "      <td>bipolar</td>\n",
       "      <td>15</td>\n",
       "      <td>107</td>\n",
       "      <td>107</td>\n",
       "    </tr>\n",
       "    <tr>\n",
       "      <th>10140680</th>\n",
       "      <td>c789b769d1</td>\n",
       "      <td>Good morning,It has taught me that Self car...</td>\n",
       "      <td>bipolar</td>\n",
       "      <td>14</td>\n",
       "      <td>95</td>\n",
       "      <td>95</td>\n",
       "    </tr>\n",
       "    <tr>\n",
       "      <th>10140681</th>\n",
       "      <td>c789b769d1</td>\n",
       "      <td>\"In Order For Good Things To Come Your Way , Y...</td>\n",
       "      <td>bipolar</td>\n",
       "      <td>17</td>\n",
       "      <td>85</td>\n",
       "      <td>85</td>\n",
       "    </tr>\n",
       "    <tr>\n",
       "      <th>10140682</th>\n",
       "      <td>c789b769d1</td>\n",
       "      <td>Someone said, \"Don't be afraid to start over a...</td>\n",
       "      <td>bipolar</td>\n",
       "      <td>20</td>\n",
       "      <td>123</td>\n",
       "      <td>123</td>\n",
       "    </tr>\n",
       "  </tbody>\n",
       "</table>\n",
       "<p>1189608 rows × 6 columns</p>\n",
       "</div>"
      ],
      "text/plain": [
       "             user_id                                               text  \\\n",
       "2683      a09ed9ede4  Do people on onlyfans like masc lesbians that ...   \n",
       "2684      a09ed9ede4   You're gonna get married long before any of u...   \n",
       "2685      a09ed9ede4  I also didnt take my ADHD meds today bc I lite...   \n",
       "2686      a09ed9ede4  I woke up the sickest I've been in a long time...   \n",
       "2687      a09ed9ede4  Why are so many people my age dating high scho...   \n",
       "...              ...                                                ...   \n",
       "10140678  c789b769d1  You Were Given,\\nTHIS LIFE.\\nBecause You Are S...   \n",
       "10140679  c789b769d1  \"In Order To Succeed greatly, You Have To Be P...   \n",
       "10140680  c789b769d1     Good morning,It has taught me that Self car...   \n",
       "10140681  c789b769d1  \"In Order For Good Things To Come Your Way , Y...   \n",
       "10140682  c789b769d1  Someone said, \"Don't be afraid to start over a...   \n",
       "\n",
       "         disorder  word_count  char_count  text_len  \n",
       "2683      anxiety          26         136       136  \n",
       "2684      anxiety          10          52        52  \n",
       "2685      anxiety          23         112       112  \n",
       "2686      anxiety          28         129       129  \n",
       "2687      anxiety          15          72        72  \n",
       "...           ...         ...         ...       ...  \n",
       "10140678  bipolar          15          99        99  \n",
       "10140679  bipolar          15         107       107  \n",
       "10140680  bipolar          14          95        95  \n",
       "10140681  bipolar          17          85        85  \n",
       "10140682  bipolar          20         123       123  \n",
       "\n",
       "[1189608 rows x 6 columns]"
      ]
     },
     "execution_count": 110,
     "metadata": {},
     "output_type": "execute_result"
    }
   ],
   "source": [
    "d4"
   ]
  },
  {
   "cell_type": "code",
   "execution_count": 111,
   "metadata": {},
   "outputs": [
    {
     "data": {
      "text/plain": [
       "disorder\n",
       "depression    553266\n",
       "anxiety       256292\n",
       "ptsd          239023\n",
       "bipolar        93085\n",
       "borderline     29449\n",
       "panic          18493\n",
       "Name: count, dtype: int64"
      ]
     },
     "execution_count": 111,
     "metadata": {},
     "output_type": "execute_result"
    }
   ],
   "source": [
    "d4['disorder'].value_counts()"
   ]
  },
  {
   "cell_type": "code",
   "execution_count": 112,
   "metadata": {},
   "outputs": [
    {
     "data": {
      "text/html": [
       "<div>\n",
       "<style scoped>\n",
       "    .dataframe tbody tr th:only-of-type {\n",
       "        vertical-align: middle;\n",
       "    }\n",
       "\n",
       "    .dataframe tbody tr th {\n",
       "        vertical-align: top;\n",
       "    }\n",
       "\n",
       "    .dataframe thead th {\n",
       "        text-align: right;\n",
       "    }\n",
       "</style>\n",
       "<table border=\"1\" class=\"dataframe\">\n",
       "  <thead>\n",
       "    <tr style=\"text-align: right;\">\n",
       "      <th></th>\n",
       "      <th>user_id</th>\n",
       "      <th>text</th>\n",
       "      <th>disorder</th>\n",
       "      <th>word_count</th>\n",
       "      <th>char_count</th>\n",
       "      <th>text_len</th>\n",
       "    </tr>\n",
       "  </thead>\n",
       "  <tbody>\n",
       "    <tr>\n",
       "      <th>2683</th>\n",
       "      <td>a09ed9ede4</td>\n",
       "      <td>Do people on onlyfans like masc lesbians that ...</td>\n",
       "      <td>anxiety</td>\n",
       "      <td>26</td>\n",
       "      <td>136</td>\n",
       "      <td>136</td>\n",
       "    </tr>\n",
       "    <tr>\n",
       "      <th>2684</th>\n",
       "      <td>a09ed9ede4</td>\n",
       "      <td>You're gonna get married long before any of u...</td>\n",
       "      <td>anxiety</td>\n",
       "      <td>10</td>\n",
       "      <td>52</td>\n",
       "      <td>52</td>\n",
       "    </tr>\n",
       "    <tr>\n",
       "      <th>2685</th>\n",
       "      <td>a09ed9ede4</td>\n",
       "      <td>I also didnt take my ADHD meds today bc I lite...</td>\n",
       "      <td>anxiety</td>\n",
       "      <td>23</td>\n",
       "      <td>112</td>\n",
       "      <td>112</td>\n",
       "    </tr>\n",
       "    <tr>\n",
       "      <th>2686</th>\n",
       "      <td>a09ed9ede4</td>\n",
       "      <td>I woke up the sickest I've been in a long time...</td>\n",
       "      <td>anxiety</td>\n",
       "      <td>28</td>\n",
       "      <td>129</td>\n",
       "      <td>129</td>\n",
       "    </tr>\n",
       "    <tr>\n",
       "      <th>2687</th>\n",
       "      <td>a09ed9ede4</td>\n",
       "      <td>Why are so many people my age dating high scho...</td>\n",
       "      <td>anxiety</td>\n",
       "      <td>15</td>\n",
       "      <td>72</td>\n",
       "      <td>72</td>\n",
       "    </tr>\n",
       "    <tr>\n",
       "      <th>...</th>\n",
       "      <td>...</td>\n",
       "      <td>...</td>\n",
       "      <td>...</td>\n",
       "      <td>...</td>\n",
       "      <td>...</td>\n",
       "      <td>...</td>\n",
       "    </tr>\n",
       "    <tr>\n",
       "      <th>10140678</th>\n",
       "      <td>c789b769d1</td>\n",
       "      <td>You Were Given,\\nTHIS LIFE.\\nBecause You Are S...</td>\n",
       "      <td>bipolar</td>\n",
       "      <td>15</td>\n",
       "      <td>99</td>\n",
       "      <td>99</td>\n",
       "    </tr>\n",
       "    <tr>\n",
       "      <th>10140679</th>\n",
       "      <td>c789b769d1</td>\n",
       "      <td>\"In Order To Succeed greatly, You Have To Be P...</td>\n",
       "      <td>bipolar</td>\n",
       "      <td>15</td>\n",
       "      <td>107</td>\n",
       "      <td>107</td>\n",
       "    </tr>\n",
       "    <tr>\n",
       "      <th>10140680</th>\n",
       "      <td>c789b769d1</td>\n",
       "      <td>Good morning,It has taught me that Self car...</td>\n",
       "      <td>bipolar</td>\n",
       "      <td>14</td>\n",
       "      <td>95</td>\n",
       "      <td>95</td>\n",
       "    </tr>\n",
       "    <tr>\n",
       "      <th>10140681</th>\n",
       "      <td>c789b769d1</td>\n",
       "      <td>\"In Order For Good Things To Come Your Way , Y...</td>\n",
       "      <td>bipolar</td>\n",
       "      <td>17</td>\n",
       "      <td>85</td>\n",
       "      <td>85</td>\n",
       "    </tr>\n",
       "    <tr>\n",
       "      <th>10140682</th>\n",
       "      <td>c789b769d1</td>\n",
       "      <td>Someone said, \"Don't be afraid to start over a...</td>\n",
       "      <td>bipolar</td>\n",
       "      <td>20</td>\n",
       "      <td>123</td>\n",
       "      <td>123</td>\n",
       "    </tr>\n",
       "  </tbody>\n",
       "</table>\n",
       "<p>1189608 rows × 6 columns</p>\n",
       "</div>"
      ],
      "text/plain": [
       "             user_id                                               text  \\\n",
       "2683      a09ed9ede4  Do people on onlyfans like masc lesbians that ...   \n",
       "2684      a09ed9ede4   You're gonna get married long before any of u...   \n",
       "2685      a09ed9ede4  I also didnt take my ADHD meds today bc I lite...   \n",
       "2686      a09ed9ede4  I woke up the sickest I've been in a long time...   \n",
       "2687      a09ed9ede4  Why are so many people my age dating high scho...   \n",
       "...              ...                                                ...   \n",
       "10140678  c789b769d1  You Were Given,\\nTHIS LIFE.\\nBecause You Are S...   \n",
       "10140679  c789b769d1  \"In Order To Succeed greatly, You Have To Be P...   \n",
       "10140680  c789b769d1     Good morning,It has taught me that Self car...   \n",
       "10140681  c789b769d1  \"In Order For Good Things To Come Your Way , Y...   \n",
       "10140682  c789b769d1  Someone said, \"Don't be afraid to start over a...   \n",
       "\n",
       "         disorder  word_count  char_count  text_len  \n",
       "2683      anxiety          26         136       136  \n",
       "2684      anxiety          10          52        52  \n",
       "2685      anxiety          23         112       112  \n",
       "2686      anxiety          28         129       129  \n",
       "2687      anxiety          15          72        72  \n",
       "...           ...         ...         ...       ...  \n",
       "10140678  bipolar          15          99        99  \n",
       "10140679  bipolar          15         107       107  \n",
       "10140680  bipolar          14          95        95  \n",
       "10140681  bipolar          17          85        85  \n",
       "10140682  bipolar          20         123       123  \n",
       "\n",
       "[1189608 rows x 6 columns]"
      ]
     },
     "execution_count": 112,
     "metadata": {},
     "output_type": "execute_result"
    }
   ],
   "source": [
    "d4"
   ]
  },
  {
   "cell_type": "code",
   "execution_count": 115,
   "metadata": {},
   "outputs": [
    {
     "data": {
      "text/plain": [
       "<Axes: title={'center': 'Panic Disorder Word Count Distribution'}, ylabel='Frequency'>"
      ]
     },
     "execution_count": 115,
     "metadata": {},
     "output_type": "execute_result"
    },
    {
     "data": {
      "image/png": "[encoded data removed]",
      "text/plain": [
       "<Figure size 640x480 with 1 Axes>"
      ]
     },
     "metadata": {},
     "output_type": "display_data"
    }
   ],
   "source": [
    "d4[d4['disorder'] == 'panic'].word_count.plot(kind='hist', bins=50, title='Panic Disorder Word Count Distribution')"
   ]
  },
  {
   "cell_type": "code",
   "execution_count": 117,
   "metadata": {},
   "outputs": [
    {
     "data": {
      "text/plain": [
       "disorder\n",
       "depression    553266\n",
       "anxiety       256292\n",
       "ptsd          239023\n",
       "bipolar        93085\n",
       "borderline     29449\n",
       "panic          18493\n",
       "Name: count, dtype: int64"
      ]
     },
     "execution_count": 117,
     "metadata": {},
     "output_type": "execute_result"
    }
   ],
   "source": [
    "d4.disorder.value_counts()"
   ]
  },
  {
   "cell_type": "markdown",
   "metadata": {},
   "source": [
    "# sample based on class dsitribution"
   ]
  },
  {
   "cell_type": "code",
   "execution_count": 141,
   "metadata": {},
   "outputs": [],
   "source": [
    "## sample 10.000 tweets from each class, while keeping every unique user id\n",
    "\n",
    "d5 = d4.groupby('disorder').apply(lambda x: x.sample(10000)).reset_index(drop=True)"
   ]
  },
  {
   "cell_type": "code",
   "execution_count": 142,
   "metadata": {},
   "outputs": [
    {
     "data": {
      "text/html": [
       "<div>\n",
       "<style scoped>\n",
       "    .dataframe tbody tr th:only-of-type {\n",
       "        vertical-align: middle;\n",
       "    }\n",
       "\n",
       "    .dataframe tbody tr th {\n",
       "        vertical-align: top;\n",
       "    }\n",
       "\n",
       "    .dataframe thead th {\n",
       "        text-align: right;\n",
       "    }\n",
       "</style>\n",
       "<table border=\"1\" class=\"dataframe\">\n",
       "  <thead>\n",
       "    <tr style=\"text-align: right;\">\n",
       "      <th></th>\n",
       "      <th>user_id</th>\n",
       "      <th>text</th>\n",
       "      <th>disorder</th>\n",
       "      <th>word_count</th>\n",
       "      <th>char_count</th>\n",
       "      <th>text_len</th>\n",
       "    </tr>\n",
       "  </thead>\n",
       "  <tbody>\n",
       "    <tr>\n",
       "      <th>0</th>\n",
       "      <td>96a0386390</td>\n",
       "      <td>Times have changed now Marion we use somethi...</td>\n",
       "      <td>anxiety</td>\n",
       "      <td>23</td>\n",
       "      <td>113</td>\n",
       "      <td>113</td>\n",
       "    </tr>\n",
       "    <tr>\n",
       "      <th>1</th>\n",
       "      <td>19c057a617</td>\n",
       "      <td>He has done some good things regardless of h...</td>\n",
       "      <td>anxiety</td>\n",
       "      <td>10</td>\n",
       "      <td>56</td>\n",
       "      <td>56</td>\n",
       "    </tr>\n",
       "    <tr>\n",
       "      <th>2</th>\n",
       "      <td>5e6675bfee</td>\n",
       "      <td>Even if we fight a lot, I still want you in my...</td>\n",
       "      <td>anxiety</td>\n",
       "      <td>13</td>\n",
       "      <td>51</td>\n",
       "      <td>51</td>\n",
       "    </tr>\n",
       "    <tr>\n",
       "      <th>3</th>\n",
       "      <td>166b8a2abe</td>\n",
       "      <td>I never liked cilantro before  &amp;amp; actually...</td>\n",
       "      <td>anxiety</td>\n",
       "      <td>19</td>\n",
       "      <td>103</td>\n",
       "      <td>103</td>\n",
       "    </tr>\n",
       "    <tr>\n",
       "      <th>4</th>\n",
       "      <td>b4fde68e4d</td>\n",
       "      <td>I've resorted to saying \"I'm ok\" when anyone a...</td>\n",
       "      <td>anxiety</td>\n",
       "      <td>18</td>\n",
       "      <td>86</td>\n",
       "      <td>86</td>\n",
       "    </tr>\n",
       "    <tr>\n",
       "      <th>...</th>\n",
       "      <td>...</td>\n",
       "      <td>...</td>\n",
       "      <td>...</td>\n",
       "      <td>...</td>\n",
       "      <td>...</td>\n",
       "      <td>...</td>\n",
       "    </tr>\n",
       "    <tr>\n",
       "      <th>59995</th>\n",
       "      <td>ff636b39ee</td>\n",
       "      <td>\\n\\n#MentalHealthAwareness \\n...</td>\n",
       "      <td>ptsd</td>\n",
       "      <td>5</td>\n",
       "      <td>108</td>\n",
       "      <td>108</td>\n",
       "    </tr>\n",
       "    <tr>\n",
       "      <th>59996</th>\n",
       "      <td>3799f77d9e</td>\n",
       "      <td>Hi, I'm Spider Cat.\\nIt was this or Migraine S...</td>\n",
       "      <td>ptsd</td>\n",
       "      <td>12</td>\n",
       "      <td>64</td>\n",
       "      <td>64</td>\n",
       "    </tr>\n",
       "    <tr>\n",
       "      <th>59997</th>\n",
       "      <td>3dfef3d920</td>\n",
       "      <td>So do we still believe that Enrico Tarrio was...</td>\n",
       "      <td>ptsd</td>\n",
       "      <td>17</td>\n",
       "      <td>78</td>\n",
       "      <td>78</td>\n",
       "    </tr>\n",
       "    <tr>\n",
       "      <th>59998</th>\n",
       "      <td>12a95b032b</td>\n",
       "      <td>No matter how bad we ended if you ever need an...</td>\n",
       "      <td>ptsd</td>\n",
       "      <td>15</td>\n",
       "      <td>79</td>\n",
       "      <td>79</td>\n",
       "    </tr>\n",
       "    <tr>\n",
       "      <th>59999</th>\n",
       "      <td>b54329662f</td>\n",
       "      <td>RLC, Andre Gomes, Giroud, Gazzaniga,Aguero, B...</td>\n",
       "      <td>ptsd</td>\n",
       "      <td>9</td>\n",
       "      <td>75</td>\n",
       "      <td>75</td>\n",
       "    </tr>\n",
       "  </tbody>\n",
       "</table>\n",
       "<p>60000 rows × 6 columns</p>\n",
       "</div>"
      ],
      "text/plain": [
       "          user_id                                               text disorder  \\\n",
       "0      96a0386390    Times have changed now Marion we use somethi...  anxiety   \n",
       "1      19c057a617    He has done some good things regardless of h...  anxiety   \n",
       "2      5e6675bfee  Even if we fight a lot, I still want you in my...  anxiety   \n",
       "3      166b8a2abe   I never liked cilantro before  &amp; actually...  anxiety   \n",
       "4      b4fde68e4d  I've resorted to saying \"I'm ok\" when anyone a...  anxiety   \n",
       "...           ...                                                ...      ...   \n",
       "59995  ff636b39ee                   \\n\\n#MentalHealthAwareness \\n...     ptsd   \n",
       "59996  3799f77d9e  Hi, I'm Spider Cat.\\nIt was this or Migraine S...     ptsd   \n",
       "59997  3dfef3d920   So do we still believe that Enrico Tarrio was...     ptsd   \n",
       "59998  12a95b032b  No matter how bad we ended if you ever need an...     ptsd   \n",
       "59999  b54329662f   RLC, Andre Gomes, Giroud, Gazzaniga,Aguero, B...     ptsd   \n",
       "\n",
       "       word_count  char_count  text_len  \n",
       "0              23         113       113  \n",
       "1              10          56        56  \n",
       "2              13          51        51  \n",
       "3              19         103       103  \n",
       "4              18          86        86  \n",
       "...           ...         ...       ...  \n",
       "59995           5         108       108  \n",
       "59996          12          64        64  \n",
       "59997          17          78        78  \n",
       "59998          15          79        79  \n",
       "59999           9          75        75  \n",
       "\n",
       "[60000 rows x 6 columns]"
      ]
     },
     "execution_count": 142,
     "metadata": {},
     "output_type": "execute_result"
    }
   ],
   "source": [
    "d5"
   ]
  },
  {
   "cell_type": "code",
   "execution_count": 143,
   "metadata": {},
   "outputs": [
    {
     "data": {
      "text/plain": [
       "129"
      ]
     },
     "execution_count": 143,
     "metadata": {},
     "output_type": "execute_result"
    }
   ],
   "source": [
    "d4[d4.disorder == 'panic'].user_id.nunique()"
   ]
  },
  {
   "cell_type": "code",
   "execution_count": 144,
   "metadata": {},
   "outputs": [],
   "source": [
    "data = d5"
   ]
  },
  {
   "cell_type": "code",
   "execution_count": 145,
   "metadata": {},
   "outputs": [],
   "source": [
    "classes_per_user = data.groupby('user_id')['disorder'].nunique()\n",
    "two_disorders = classes_per_user[classes_per_user==2].index"
   ]
  },
  {
   "cell_type": "code",
   "execution_count": 146,
   "metadata": {},
   "outputs": [],
   "source": [
    "ratios = data[data['user_id'].isin(two_disorders)].groupby('user_id')['disorder'].value_counts()/data[data['user_id'].isin(two_disorders)].groupby('user_id')['disorder'].count()"
   ]
  },
  {
   "cell_type": "code",
   "execution_count": 147,
   "metadata": {},
   "outputs": [
    {
     "data": {
      "text/plain": [
       "<Axes: >"
      ]
     },
     "execution_count": 147,
     "metadata": {},
     "output_type": "execute_result"
    },
    {
     "data": {
      "image/png": "[encoded data removed]",
      "text/plain": [
       "<Figure size 640x480 with 1 Axes>"
      ]
     },
     "metadata": {},
     "output_type": "display_data"
    }
   ],
   "source": [
    "ratios.hist(bins=50)"
   ]
  },
  {
   "cell_type": "code",
   "execution_count": 148,
   "metadata": {},
   "outputs": [
    {
     "data": {
      "text/plain": [
       "7421"
      ]
     },
     "execution_count": 148,
     "metadata": {},
     "output_type": "execute_result"
    }
   ],
   "source": [
    "data.user_id.nunique()"
   ]
  },
  {
   "cell_type": "code",
   "execution_count": 149,
   "metadata": {},
   "outputs": [
    {
     "data": {
      "text/html": [
       "<div>\n",
       "<style scoped>\n",
       "    .dataframe tbody tr th:only-of-type {\n",
       "        vertical-align: middle;\n",
       "    }\n",
       "\n",
       "    .dataframe tbody tr th {\n",
       "        vertical-align: top;\n",
       "    }\n",
       "\n",
       "    .dataframe thead th {\n",
       "        text-align: right;\n",
       "    }\n",
       "</style>\n",
       "<table border=\"1\" class=\"dataframe\">\n",
       "  <thead>\n",
       "    <tr style=\"text-align: right;\">\n",
       "      <th></th>\n",
       "      <th>user_id</th>\n",
       "      <th>text</th>\n",
       "      <th>disorder</th>\n",
       "      <th>word_count</th>\n",
       "      <th>char_count</th>\n",
       "      <th>text_len</th>\n",
       "    </tr>\n",
       "  </thead>\n",
       "  <tbody>\n",
       "    <tr>\n",
       "      <th>0</th>\n",
       "      <td>96a0386390</td>\n",
       "      <td>Times have changed now Marion we use somethi...</td>\n",
       "      <td>anxiety</td>\n",
       "      <td>23</td>\n",
       "      <td>113</td>\n",
       "      <td>113</td>\n",
       "    </tr>\n",
       "    <tr>\n",
       "      <th>1</th>\n",
       "      <td>19c057a617</td>\n",
       "      <td>He has done some good things regardless of h...</td>\n",
       "      <td>anxiety</td>\n",
       "      <td>10</td>\n",
       "      <td>56</td>\n",
       "      <td>56</td>\n",
       "    </tr>\n",
       "    <tr>\n",
       "      <th>2</th>\n",
       "      <td>5e6675bfee</td>\n",
       "      <td>Even if we fight a lot, I still want you in my...</td>\n",
       "      <td>anxiety</td>\n",
       "      <td>13</td>\n",
       "      <td>51</td>\n",
       "      <td>51</td>\n",
       "    </tr>\n",
       "    <tr>\n",
       "      <th>3</th>\n",
       "      <td>166b8a2abe</td>\n",
       "      <td>I never liked cilantro before  &amp;amp; actually...</td>\n",
       "      <td>anxiety</td>\n",
       "      <td>19</td>\n",
       "      <td>103</td>\n",
       "      <td>103</td>\n",
       "    </tr>\n",
       "    <tr>\n",
       "      <th>4</th>\n",
       "      <td>b4fde68e4d</td>\n",
       "      <td>I've resorted to saying \"I'm ok\" when anyone a...</td>\n",
       "      <td>anxiety</td>\n",
       "      <td>18</td>\n",
       "      <td>86</td>\n",
       "      <td>86</td>\n",
       "    </tr>\n",
       "    <tr>\n",
       "      <th>...</th>\n",
       "      <td>...</td>\n",
       "      <td>...</td>\n",
       "      <td>...</td>\n",
       "      <td>...</td>\n",
       "      <td>...</td>\n",
       "      <td>...</td>\n",
       "    </tr>\n",
       "    <tr>\n",
       "      <th>59995</th>\n",
       "      <td>ff636b39ee</td>\n",
       "      <td>\\n\\n#MentalHealthAwareness \\n...</td>\n",
       "      <td>ptsd</td>\n",
       "      <td>5</td>\n",
       "      <td>108</td>\n",
       "      <td>108</td>\n",
       "    </tr>\n",
       "    <tr>\n",
       "      <th>59996</th>\n",
       "      <td>3799f77d9e</td>\n",
       "      <td>Hi, I'm Spider Cat.\\nIt was this or Migraine S...</td>\n",
       "      <td>ptsd</td>\n",
       "      <td>12</td>\n",
       "      <td>64</td>\n",
       "      <td>64</td>\n",
       "    </tr>\n",
       "    <tr>\n",
       "      <th>59997</th>\n",
       "      <td>3dfef3d920</td>\n",
       "      <td>So do we still believe that Enrico Tarrio was...</td>\n",
       "      <td>ptsd</td>\n",
       "      <td>17</td>\n",
       "      <td>78</td>\n",
       "      <td>78</td>\n",
       "    </tr>\n",
       "    <tr>\n",
       "      <th>59998</th>\n",
       "      <td>12a95b032b</td>\n",
       "      <td>No matter how bad we ended if you ever need an...</td>\n",
       "      <td>ptsd</td>\n",
       "      <td>15</td>\n",
       "      <td>79</td>\n",
       "      <td>79</td>\n",
       "    </tr>\n",
       "    <tr>\n",
       "      <th>59999</th>\n",
       "      <td>b54329662f</td>\n",
       "      <td>RLC, Andre Gomes, Giroud, Gazzaniga,Aguero, B...</td>\n",
       "      <td>ptsd</td>\n",
       "      <td>9</td>\n",
       "      <td>75</td>\n",
       "      <td>75</td>\n",
       "    </tr>\n",
       "  </tbody>\n",
       "</table>\n",
       "<p>60000 rows × 6 columns</p>\n",
       "</div>"
      ],
      "text/plain": [
       "          user_id                                               text disorder  \\\n",
       "0      96a0386390    Times have changed now Marion we use somethi...  anxiety   \n",
       "1      19c057a617    He has done some good things regardless of h...  anxiety   \n",
       "2      5e6675bfee  Even if we fight a lot, I still want you in my...  anxiety   \n",
       "3      166b8a2abe   I never liked cilantro before  &amp; actually...  anxiety   \n",
       "4      b4fde68e4d  I've resorted to saying \"I'm ok\" when anyone a...  anxiety   \n",
       "...           ...                                                ...      ...   \n",
       "59995  ff636b39ee                   \\n\\n#MentalHealthAwareness \\n...     ptsd   \n",
       "59996  3799f77d9e  Hi, I'm Spider Cat.\\nIt was this or Migraine S...     ptsd   \n",
       "59997  3dfef3d920   So do we still believe that Enrico Tarrio was...     ptsd   \n",
       "59998  12a95b032b  No matter how bad we ended if you ever need an...     ptsd   \n",
       "59999  b54329662f   RLC, Andre Gomes, Giroud, Gazzaniga,Aguero, B...     ptsd   \n",
       "\n",
       "       word_count  char_count  text_len  \n",
       "0              23         113       113  \n",
       "1              10          56        56  \n",
       "2              13          51        51  \n",
       "3              19         103       103  \n",
       "4              18          86        86  \n",
       "...           ...         ...       ...  \n",
       "59995           5         108       108  \n",
       "59996          12          64        64  \n",
       "59997          17          78        78  \n",
       "59998          15          79        79  \n",
       "59999           9          75        75  \n",
       "\n",
       "[60000 rows x 6 columns]"
      ]
     },
     "execution_count": 149,
     "metadata": {},
     "output_type": "execute_result"
    }
   ],
   "source": [
    "d5"
   ]
  },
  {
   "cell_type": "code",
   "execution_count": 150,
   "metadata": {},
   "outputs": [],
   "source": [
    "d5.to_csv('data/cleaned_anon_disorder_tweets.csv', index=False)"
   ]
  },
  {
   "cell_type": "code",
   "execution_count": null,
   "metadata": {},
   "outputs": [],
   "source": []
  }
 ],
 "metadata": {
  "kernelspec": {
   "display_name": "Python 3",
   "language": "python",
   "name": "python3"
  },
  "language_info": {
   "codemirror_mode": {
    "name": "ipython",
    "version": 3
   },
   "file_extension": ".py",
   "mimetype": "text/x-python",
   "name": "python",
   "nbconvert_exporter": "python",
   "pygments_lexer": "ipython3",
   "version": "3.12.0"
  }
 },
 "nbformat": 4,
 "nbformat_minor": 2
}

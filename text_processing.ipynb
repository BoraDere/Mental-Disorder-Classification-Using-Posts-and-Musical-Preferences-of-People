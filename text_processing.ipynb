{
 "cells": [
  {
   "cell_type": "code",
   "execution_count": null,
   "metadata": {},
   "outputs": [],
   "source": [
    "import pandas as pd\n",
    "import pyarrow.parquet as pq\n",
    "import re\n",
    "import emoji\n",
    "from nltk import stopwords"
   ]
  },
  {
   "cell_type": "code",
   "execution_count": 2,
   "metadata": {},
   "outputs": [],
   "source": [
    "ANON_CONTROL_MUSICS = 'data/anon_control_musics.csv'\n",
    "ANON_CONTROL_TWEETS = 'data/anon_control_tweets.csv'\n",
    "ANON_DISORDER_MUSICS = 'data/anon_disorder_musics.csv'\n",
    "ANON_DISORDER_TWEETS = 'data/anon_disorder_tweets.csv'"
   ]
  },
  {
   "cell_type": "code",
   "execution_count": 3,
   "metadata": {},
   "outputs": [],
   "source": [
    "control_music = pd.read_csv(ANON_CONTROL_MUSICS, dtype=str)\n",
    "control_music = control_music.drop(control_music.columns[0], axis=1)\n",
    "\n",
    "control_tweets = pd.read_csv(ANON_CONTROL_TWEETS, dtype=str)\n",
    "control_tweets = control_tweets.drop(control_tweets.columns[0], axis=1)\n",
    "\n",
    "disorder_music = pd.read_csv(ANON_DISORDER_MUSICS, dtype=str)\n",
    "disorder_music = disorder_music.drop(disorder_music.columns[0], axis=1)\n",
    "\n",
    "disorder_tweets = pd.read_csv(ANON_DISORDER_TWEETS, dtype=str)\n",
    "disorder_tweets = disorder_tweets.drop(disorder_tweets.columns[0], axis=1)"
   ]
  },
  {
   "cell_type": "code",
   "execution_count": 4,
   "metadata": {},
   "outputs": [],
   "source": [
    "control_music.to_parquet('data/anon_control_musics.parquet')\n",
    "control_tweets.to_parquet('data/anon_control_tweets.parquet')\n",
    "disorder_music.to_parquet('data/anon_disorder_musics.parquet')\n",
    "disorder_tweets.to_parquet('data/anon_disorder_tweets.parquet')"
   ]
  },
  {
   "cell_type": "markdown",
   "metadata": {},
   "source": [
    "---"
   ]
  },
  {
   "cell_type": "code",
   "execution_count": 5,
   "metadata": {},
   "outputs": [],
   "source": [
    "ANON_CONTROL_MUSICS = 'data/anon_control_musics.parquet'\n",
    "ANON_CONTROL_TWEETS = 'data/anon_control_tweets.parquet'\n",
    "ANON_DISORDER_MUSICS = 'data/anon_disorder_musics.parquet'\n",
    "ANON_DISORDER_TWEETS = 'data/anon_disorder_tweets.parquet'"
   ]
  },
  {
   "cell_type": "code",
   "execution_count": 97,
   "metadata": {},
   "outputs": [],
   "source": [
    "control_music = pq.read_table(ANON_CONTROL_MUSICS).to_pandas()\n",
    "control_tweets = pq.read_table(ANON_CONTROL_TWEETS).to_pandas()\n",
    "disorder_music = pq.read_table(ANON_DISORDER_MUSICS).to_pandas()\n",
    "disorder_tweets = pq.read_table(ANON_DISORDER_TWEETS).to_pandas()"
   ]
  },
  {
   "cell_type": "code",
   "execution_count": 59,
   "metadata": {},
   "outputs": [],
   "source": [
    "control_music = control_music.dropna()\n",
    "control_tweets = control_tweets.dropna()\n",
    "disorder_music = disorder_music.dropna()\n",
    "disorder_tweets = disorder_tweets.dropna()"
   ]
  },
  {
   "cell_type": "code",
   "execution_count": 15,
   "metadata": {},
   "outputs": [],
   "source": [
    "def remove_mentions(text):\n",
    "    if isinstance(text, str):\n",
    "        return re.sub(r'@\\w+', '', text)\n",
    "    return text\n",
    "\n",
    "# df['text'] = df['text'].apply(remove_mentions)"
   ]
  },
  {
   "cell_type": "code",
   "execution_count": 19,
   "metadata": {},
   "outputs": [],
   "source": [
    "def transform_emojis(text):\n",
    "    if isinstance(text, str):\n",
    "        return emoji.demojize(text)\n",
    "    return text\n",
    "\n",
    "# df['text'] = df['text'].apply(transform_emojis)"
   ]
  }
 ],
 "metadata": {
  "kernelspec": {
   "display_name": "Python 3",
   "language": "python",
   "name": "python3"
  },
  "language_info": {
   "codemirror_mode": {
    "name": "ipython",
    "version": 3
   },
   "file_extension": ".py",
   "mimetype": "text/x-python",
   "name": "python",
   "nbconvert_exporter": "python",
   "pygments_lexer": "ipython3",
   "version": "3.10.0"
  }
 },
 "nbformat": 4,
 "nbformat_minor": 2
}

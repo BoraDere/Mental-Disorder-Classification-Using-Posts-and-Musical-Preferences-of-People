{
 "cells": [
  {
   "cell_type": "code",
   "execution_count": 8,
   "metadata": {},
   "outputs": [],
   "source": [
    "import pandas as pd\n",
    "import pyarrow.parquet as pq"
   ]
  },
  {
   "cell_type": "code",
   "execution_count": 2,
   "metadata": {},
   "outputs": [],
   "source": [
    "ANON_CONTROL_MUSICS = 'data/anon_control_musics.csv'\n",
    "ANON_CONTROL_TWEETS = 'data/anon_control_tweets.csv'\n",
    "ANON_DISORDER_MUSICS = 'data/anon_disorder_musics.csv'\n",
    "ANON_DISORDER_TWEETS = 'data/anon_disorder_tweets.csv'"
   ]
  },
  {
   "cell_type": "code",
   "execution_count": 3,
   "metadata": {},
   "outputs": [],
   "source": [
    "control_music = pd.read_csv(ANON_CONTROL_MUSICS, dtype=str)\n",
    "control_tweets = pd.read_csv(ANON_CONTROL_TWEETS, dtype=str)\n",
    "disorder_music = pd.read_csv(ANON_DISORDER_MUSICS, dtype=str)\n",
    "disorder_tweets = pd.read_csv(ANON_DISORDER_TWEETS, dtype=str)"
   ]
  },
  {
   "cell_type": "code",
   "execution_count": 9,
   "metadata": {},
   "outputs": [],
   "source": [
    "control_music.to_parquet('data/anon_control_musics.parquet')\n",
    "control_tweets.to_parquet('data/anon_control_tweets.parquet')\n",
    "disorder_music.to_parquet('data/anon_disorder_musics.parquet')\n",
    "disorder_tweets.to_parquet('data/anon_disorder_tweets.parquet')"
   ]
  }
 ],
 "metadata": {
  "kernelspec": {
   "display_name": "Python 3",
   "language": "python",
   "name": "python3"
  },
  "language_info": {
   "codemirror_mode": {
    "name": "ipython",
    "version": 3
   },
   "file_extension": ".py",
   "mimetype": "text/x-python",
   "name": "python",
   "nbconvert_exporter": "python",
   "pygments_lexer": "ipython3",
   "version": "3.10.0"
  }
 },
 "nbformat": 4,
 "nbformat_minor": 2
}

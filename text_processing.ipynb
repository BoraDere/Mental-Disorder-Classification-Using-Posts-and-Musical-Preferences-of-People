{
 "cells": [
  {
   "cell_type": "code",
   "execution_count": 56,
   "metadata": {},
   "outputs": [],
   "source": [
    "import pandas as pd\n",
    "import pyarrow.parquet as pq\n",
    "import re\n",
    "import emoji\n",
    "from nltk.corpus import stopwords\n",
    "from symspellpy import SymSpell\n",
    "import pkg_resources\n",
    "from nltk.stem import WordNetLemmatizer\n",
    "from nltk.corpus import wordnet\n",
    "import nltk"
   ]
  },
  {
   "cell_type": "code",
   "execution_count": 55,
   "metadata": {},
   "outputs": [],
   "source": [
    "DICT_PATH = pkg_resources.resource_filename(\"symspellpy\", \"frequency_dictionary_en_82_765.txt\")"
   ]
  },
  {
   "cell_type": "code",
   "execution_count": 67,
   "metadata": {},
   "outputs": [
    {
     "name": "stderr",
     "output_type": "stream",
     "text": [
      "[nltk_data] Downloading package wordnet to\n",
      "[nltk_data]     C:\\Users\\Bora\\AppData\\Roaming\\nltk_data...\n",
      "[nltk_data]   Package wordnet is already up-to-date!\n",
      "[nltk_data] Downloading package averaged_perceptron_tagger to\n",
      "[nltk_data]     C:\\Users\\Bora\\AppData\\Roaming\\nltk_data...\n",
      "[nltk_data]   Package averaged_perceptron_tagger is already up-to-\n",
      "[nltk_data]       date!\n"
     ]
    },
    {
     "data": {
      "text/plain": [
       "True"
      ]
     },
     "execution_count": 67,
     "metadata": {},
     "output_type": "execute_result"
    }
   ],
   "source": [
    "nltk.download('wordnet')\n",
    "nltk.download('averaged_perceptron_tagger')"
   ]
  },
  {
   "cell_type": "markdown",
   "metadata": {},
   "source": [
    "---"
   ]
  },
  {
   "cell_type": "code",
   "execution_count": 2,
   "metadata": {},
   "outputs": [],
   "source": [
    "ANON_CONTROL_MUSICS = 'data/anon_control_musics.csv'\n",
    "ANON_CONTROL_TWEETS = 'data/anon_control_tweets.csv'\n",
    "ANON_DISORDER_MUSICS = 'data/anon_disorder_musics.csv'\n",
    "ANON_DISORDER_TWEETS = 'data/anon_disorder_tweets.csv'"
   ]
  },
  {
   "cell_type": "code",
   "execution_count": 3,
   "metadata": {},
   "outputs": [],
   "source": [
    "control_music = pd.read_csv(ANON_CONTROL_MUSICS, dtype=str)\n",
    "control_music = control_music.drop(control_music.columns[0], axis=1)\n",
    "\n",
    "control_tweets = pd.read_csv(ANON_CONTROL_TWEETS, dtype=str)\n",
    "control_tweets = control_tweets.drop(control_tweets.columns[0], axis=1)\n",
    "\n",
    "disorder_music = pd.read_csv(ANON_DISORDER_MUSICS, dtype=str)\n",
    "disorder_music = disorder_music.drop(disorder_music.columns[0], axis=1)\n",
    "\n",
    "disorder_tweets = pd.read_csv(ANON_DISORDER_TWEETS, dtype=str)\n",
    "disorder_tweets = disorder_tweets.drop(disorder_tweets.columns[0], axis=1)"
   ]
  },
  {
   "cell_type": "code",
   "execution_count": 4,
   "metadata": {},
   "outputs": [],
   "source": [
    "control_music.to_parquet('data/anon_control_musics.parquet')\n",
    "control_tweets.to_parquet('data/anon_control_tweets.parquet')\n",
    "disorder_music.to_parquet('data/anon_disorder_musics.parquet')\n",
    "disorder_tweets.to_parquet('data/anon_disorder_tweets.parquet')"
   ]
  },
  {
   "cell_type": "markdown",
   "metadata": {},
   "source": [
    "---"
   ]
  },
  {
   "cell_type": "code",
   "execution_count": 3,
   "metadata": {},
   "outputs": [],
   "source": [
    "ANON_CONTROL_MUSICS = 'data/anon_control_musics.parquet'\n",
    "ANON_CONTROL_TWEETS = 'data/anon_control_tweets.parquet'\n",
    "ANON_DISORDER_MUSICS = 'data/anon_disorder_musics.parquet'\n",
    "ANON_DISORDER_TWEETS = 'data/anon_disorder_tweets.parquet'"
   ]
  },
  {
   "cell_type": "code",
   "execution_count": 4,
   "metadata": {},
   "outputs": [],
   "source": [
    "control_music = pq.read_table(ANON_CONTROL_MUSICS).to_pandas()\n",
    "control_tweets = pq.read_table(ANON_CONTROL_TWEETS).to_pandas()\n",
    "disorder_music = pq.read_table(ANON_DISORDER_MUSICS).to_pandas()\n",
    "disorder_tweets = pq.read_table(ANON_DISORDER_TWEETS).to_pandas()"
   ]
  },
  {
   "cell_type": "code",
   "execution_count": 5,
   "metadata": {},
   "outputs": [],
   "source": [
    "control_music = control_music.dropna()\n",
    "control_tweets = control_tweets.dropna()\n",
    "disorder_music = disorder_music.dropna()\n",
    "disorder_tweets = disorder_tweets.dropna()"
   ]
  },
  {
   "cell_type": "code",
   "execution_count": 26,
   "metadata": {},
   "outputs": [
    {
     "data": {
      "text/html": [
       "<div>\n",
       "<style scoped>\n",
       "    .dataframe tbody tr th:only-of-type {\n",
       "        vertical-align: middle;\n",
       "    }\n",
       "\n",
       "    .dataframe tbody tr th {\n",
       "        vertical-align: top;\n",
       "    }\n",
       "\n",
       "    .dataframe thead th {\n",
       "        text-align: right;\n",
       "    }\n",
       "</style>\n",
       "<table border=\"1\" class=\"dataframe\">\n",
       "  <thead>\n",
       "    <tr style=\"text-align: right;\">\n",
       "      <th></th>\n",
       "      <th>user_id</th>\n",
       "      <th>text</th>\n",
       "      <th>disorder</th>\n",
       "    </tr>\n",
       "  </thead>\n",
       "  <tbody>\n",
       "    <tr>\n",
       "      <th>0</th>\n",
       "      <td>54c6d3e322</td>\n",
       "      <td>My greatest year month so far, since Monday bo...</td>\n",
       "      <td>control</td>\n",
       "    </tr>\n",
       "    <tr>\n",
       "      <th>1</th>\n",
       "      <td>54c6d3e322</td>\n",
       "      <td>🙏🙏🙏 https://t.co/t07nMOuV3P</td>\n",
       "      <td>control</td>\n",
       "    </tr>\n",
       "    <tr>\n",
       "      <th>2</th>\n",
       "      <td>54c6d3e322</td>\n",
       "      <td>@real_mercyeke Classic women 💧💧</td>\n",
       "      <td>control</td>\n",
       "    </tr>\n",
       "    <tr>\n",
       "      <th>3</th>\n",
       "      <td>54c6d3e322</td>\n",
       "      <td>One day can change your whole life. ☝🏾 \\n\\nWha...</td>\n",
       "      <td>control</td>\n",
       "    </tr>\n",
       "    <tr>\n",
       "      <th>4</th>\n",
       "      <td>54c6d3e322</td>\n",
       "      <td>Happy birthday to me!!!! My bone straight na d...</td>\n",
       "      <td>control</td>\n",
       "    </tr>\n",
       "    <tr>\n",
       "      <th>...</th>\n",
       "      <td>...</td>\n",
       "      <td>...</td>\n",
       "      <td>...</td>\n",
       "    </tr>\n",
       "    <tr>\n",
       "      <th>32399489</th>\n",
       "      <td>ace96f1f11</td>\n",
       "      <td>@GoddessLeah10 @indebt2Leah Good</td>\n",
       "      <td>control</td>\n",
       "    </tr>\n",
       "    <tr>\n",
       "      <th>32399490</th>\n",
       "      <td>ace96f1f11</td>\n",
       "      <td>@GoddessLeah10 @indebt2Leah Too</td>\n",
       "      <td>control</td>\n",
       "    </tr>\n",
       "    <tr>\n",
       "      <th>32399491</th>\n",
       "      <td>ace96f1f11</td>\n",
       "      <td>@GoddessLeah10 @indebt2Leah Is</td>\n",
       "      <td>control</td>\n",
       "    </tr>\n",
       "    <tr>\n",
       "      <th>32399492</th>\n",
       "      <td>ace96f1f11</td>\n",
       "      <td>@GoddessLeah10 @indebt2Leah Unlimited</td>\n",
       "      <td>control</td>\n",
       "    </tr>\n",
       "    <tr>\n",
       "      <th>32399493</th>\n",
       "      <td>ace96f1f11</td>\n",
       "      <td>@Goddessreena2 @SubVerseIve @ElGenericoRT @sla...</td>\n",
       "      <td>control</td>\n",
       "    </tr>\n",
       "  </tbody>\n",
       "</table>\n",
       "<p>26519990 rows × 3 columns</p>\n",
       "</div>"
      ],
      "text/plain": [
       "             user_id                                               text  \\\n",
       "0         54c6d3e322  My greatest year month so far, since Monday bo...   \n",
       "1         54c6d3e322                        🙏🙏🙏 https://t.co/t07nMOuV3P   \n",
       "2         54c6d3e322                    @real_mercyeke Classic women 💧💧   \n",
       "3         54c6d3e322  One day can change your whole life. ☝🏾 \\n\\nWha...   \n",
       "4         54c6d3e322  Happy birthday to me!!!! My bone straight na d...   \n",
       "...              ...                                                ...   \n",
       "32399489  ace96f1f11                   @GoddessLeah10 @indebt2Leah Good   \n",
       "32399490  ace96f1f11                    @GoddessLeah10 @indebt2Leah Too   \n",
       "32399491  ace96f1f11                     @GoddessLeah10 @indebt2Leah Is   \n",
       "32399492  ace96f1f11              @GoddessLeah10 @indebt2Leah Unlimited   \n",
       "32399493  ace96f1f11  @Goddessreena2 @SubVerseIve @ElGenericoRT @sla...   \n",
       "\n",
       "         disorder  \n",
       "0         control  \n",
       "1         control  \n",
       "2         control  \n",
       "3         control  \n",
       "4         control  \n",
       "...           ...  \n",
       "32399489  control  \n",
       "32399490  control  \n",
       "32399491  control  \n",
       "32399492  control  \n",
       "32399493  control  \n",
       "\n",
       "[26519990 rows x 3 columns]"
      ]
     },
     "execution_count": 26,
     "metadata": {},
     "output_type": "execute_result"
    }
   ],
   "source": [
    "control_tweets"
   ]
  },
  {
   "cell_type": "code",
   "execution_count": null,
   "metadata": {},
   "outputs": [],
   "source": [
    "def remove_mentions(text):\n",
    "    if isinstance(text, str):\n",
    "        return re.sub(r'@\\w+', '', text)\n",
    "    return text"
   ]
  },
  {
   "cell_type": "code",
   "execution_count": null,
   "metadata": {},
   "outputs": [],
   "source": [
    "def transform_emojis(text):\n",
    "    if isinstance(text, str):\n",
    "        return emoji.demojize(text)\n",
    "    return text"
   ]
  },
  {
   "cell_type": "code",
   "execution_count": null,
   "metadata": {},
   "outputs": [],
   "source": [
    "def remove_stopwords(text):\n",
    "    if isinstance(text, str):\n",
    "        return ' '.join([word for word in text.split() if word not in stopwords.words('english')])\n",
    "    return text"
   ]
  },
  {
   "cell_type": "code",
   "execution_count": null,
   "metadata": {},
   "outputs": [],
   "source": [
    "def normalize_text(text):\n",
    "    if isinstance(text, str):\n",
    "        return text.lower()\n",
    "    return text"
   ]
  },
  {
   "cell_type": "code",
   "execution_count": 21,
   "metadata": {},
   "outputs": [],
   "source": [
    "def remove_urls(text):\n",
    "    if isinstance(text, str):\n",
    "        return re.sub(r'http\\S+|www\\S+|https\\S+', '', text, flags=re.MULTILINE)\n",
    "    return text"
   ]
  },
  {
   "cell_type": "code",
   "execution_count": 54,
   "metadata": {},
   "outputs": [],
   "source": [
    "def correct_spellings(text):\n",
    "    if isinstance(text, str):\n",
    "        sym_spell = SymSpell(max_dictionary_edit_distance=2, prefix_length=7)\n",
    "        sym_spell.load_dictionary(DICT_PATH, term_index=0, count_index=1)\n",
    "        suggestions = sym_spell.lookup_compound(text, max_edit_distance=2)\n",
    "        return suggestions[0].term if suggestions else text"
   ]
  },
  {
   "cell_type": "code",
   "execution_count": 68,
   "metadata": {},
   "outputs": [],
   "source": [
    "def get_wordnet_pos(treebank_tag):\n",
    "    if treebank_tag.startswith('J'):\n",
    "        return wordnet.ADJ\n",
    "    elif treebank_tag.startswith('V'):\n",
    "        return wordnet.VERB\n",
    "    elif treebank_tag.startswith('N'):\n",
    "        return wordnet.NOUN\n",
    "    elif treebank_tag.startswith('R'):\n",
    "        return wordnet.ADV\n",
    "    else:\n",
    "        return wordnet.NOUN  # default\n",
    "    \n",
    "\n",
    "def lemmatize_text(text):\n",
    "    if isinstance(text, str):\n",
    "        lemmatizer = WordNetLemmatizer()\n",
    "        tokens = nltk.word_tokenize(text)\n",
    "        pos_tags = nltk.pos_tag(tokens)\n",
    "        lemmatized_words = [lemmatizer.lemmatize(word, get_wordnet_pos(pos)) for word, pos in pos_tags]\n",
    "        return ' '.join(lemmatized_words)\n",
    "    return text"
   ]
  }
 ],
 "metadata": {
  "kernelspec": {
   "display_name": "Python 3",
   "language": "python",
   "name": "python3"
  },
  "language_info": {
   "codemirror_mode": {
    "name": "ipython",
    "version": 3
   },
   "file_extension": ".py",
   "mimetype": "text/x-python",
   "name": "python",
   "nbconvert_exporter": "python",
   "pygments_lexer": "ipython3",
   "version": "3.10.0"
  }
 },
 "nbformat": 4,
 "nbformat_minor": 2
}

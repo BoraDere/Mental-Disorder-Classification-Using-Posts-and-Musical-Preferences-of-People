{
 "cells": [
  {
   "cell_type": "code",
   "execution_count": 2,
   "metadata": {},
   "outputs": [],
   "source": [
    "import pandas as pd"
   ]
  },
  {
   "cell_type": "code",
   "execution_count": null,
   "metadata": {},
   "outputs": [],
   "source": [
    "ANON_CONTROL_MUSICS = 'data/anon_control_musics.csv'\n",
    "ANON_CONTROL_TWEETS = 'data/anon_control_tweets.csv'\n",
    "ANON_DISORDER_MUSICS = 'data/anon_disorder_musics.csv'\n",
    "ANON_DISORDER_TWEETS = 'data/anon_disorder_tweets.csv'"
   ]
  },
  {
   "cell_type": "code",
   "execution_count": 4,
   "metadata": {},
   "outputs": [
    {
     "name": "stderr",
     "output_type": "stream",
     "text": [
      "C:\\Users\\Bora\\AppData\\Local\\Temp\\ipykernel_4796\\2884366067.py:4: DtypeWarning: Columns (0,1,2,3) have mixed types. Specify dtype option on import or set low_memory=False.\n",
      "  control_tweets = pd.read_csv(ANON_CONTROL_TWEETS)\n"
     ]
    }
   ],
   "source": [
    "disorder_musics = pd.read_csv(ANON_DISORDER_MUSICS)\n",
    "disorder_tweets = pd.read_csv(ANON_DISORDER_TWEETS)\n",
    "control_musics = pd.read_csv(ANON_CONTROL_MUSICS)\n",
    "control_tweets = pd.read_csv(ANON_CONTROL_TWEETS)"
   ]
  },
  {
   "cell_type": "code",
   "execution_count": 5,
   "metadata": {},
   "outputs": [
    {
     "data": {
      "text/html": [
       "<div>\n",
       "<style scoped>\n",
       "    .dataframe tbody tr th:only-of-type {\n",
       "        vertical-align: middle;\n",
       "    }\n",
       "\n",
       "    .dataframe tbody tr th {\n",
       "        vertical-align: top;\n",
       "    }\n",
       "\n",
       "    .dataframe thead th {\n",
       "        text-align: right;\n",
       "    }\n",
       "</style>\n",
       "<table border=\"1\" class=\"dataframe\">\n",
       "  <thead>\n",
       "    <tr style=\"text-align: right;\">\n",
       "      <th></th>\n",
       "      <th>Unnamed: 0</th>\n",
       "      <th>user_id</th>\n",
       "      <th>text</th>\n",
       "      <th>disorder</th>\n",
       "    </tr>\n",
       "  </thead>\n",
       "  <tbody>\n",
       "    <tr>\n",
       "      <th>0</th>\n",
       "      <td>0</td>\n",
       "      <td>3f21058fc8</td>\n",
       "      <td>@amirulmokhtar Exactly! We were busy buat untu...</td>\n",
       "      <td>anxiety</td>\n",
       "    </tr>\n",
       "    <tr>\n",
       "      <th>1</th>\n",
       "      <td>1</td>\n",
       "      <td>3f21058fc8</td>\n",
       "      <td>Ternangis baca text &amp;amp; dengar call reply di...</td>\n",
       "      <td>anxiety</td>\n",
       "    </tr>\n",
       "    <tr>\n",
       "      <th>2</th>\n",
       "      <td>2</td>\n",
       "      <td>3f21058fc8</td>\n",
       "      <td>I learn smthg very valuable today.\\n\\nWhen I w...</td>\n",
       "      <td>anxiety</td>\n",
       "    </tr>\n",
       "    <tr>\n",
       "      <th>3</th>\n",
       "      <td>3</td>\n",
       "      <td>3f21058fc8</td>\n",
       "      <td>@MintKr Ohhh okay. So, to create more opportun...</td>\n",
       "      <td>anxiety</td>\n",
       "    </tr>\n",
       "    <tr>\n",
       "      <th>4</th>\n",
       "      <td>4</td>\n",
       "      <td>3f21058fc8</td>\n",
       "      <td>@MintKr Perspective expanding experience tu ap...</td>\n",
       "      <td>anxiety</td>\n",
       "    </tr>\n",
       "    <tr>\n",
       "      <th>5</th>\n",
       "      <td>5</td>\n",
       "      <td>3f21058fc8</td>\n",
       "      <td>@HusnaReads @auzainal Me too.😭 Sekarang pun da...</td>\n",
       "      <td>anxiety</td>\n",
       "    </tr>\n",
       "    <tr>\n",
       "      <th>6</th>\n",
       "      <td>6</td>\n",
       "      <td>3f21058fc8</td>\n",
       "      <td>@TheAleem @fidonasir Priceless.haha🤣</td>\n",
       "      <td>anxiety</td>\n",
       "    </tr>\n",
       "    <tr>\n",
       "      <th>7</th>\n",
       "      <td>7</td>\n",
       "      <td>3f21058fc8</td>\n",
       "      <td>@TweetKellyTelly @zamrimohamad Baru nak tanya ...</td>\n",
       "      <td>anxiety</td>\n",
       "    </tr>\n",
       "    <tr>\n",
       "      <th>8</th>\n",
       "      <td>8</td>\n",
       "      <td>3f21058fc8</td>\n",
       "      <td>@itsedma @edmastudios 💪keep going!</td>\n",
       "      <td>anxiety</td>\n",
       "    </tr>\n",
       "    <tr>\n",
       "      <th>9</th>\n",
       "      <td>9</td>\n",
       "      <td>3f21058fc8</td>\n",
       "      <td>@_arares Paling senang buat je. Selamat dunia ...</td>\n",
       "      <td>anxiety</td>\n",
       "    </tr>\n",
       "    <tr>\n",
       "      <th>10</th>\n",
       "      <td>10</td>\n",
       "      <td>3f21058fc8</td>\n",
       "      <td>I couldn't sleep. Figured out I need more stim...</td>\n",
       "      <td>anxiety</td>\n",
       "    </tr>\n",
       "    <tr>\n",
       "      <th>11</th>\n",
       "      <td>11</td>\n",
       "      <td>3f21058fc8</td>\n",
       "      <td>No reason to give up.\\nNo reason to stop hustl...</td>\n",
       "      <td>anxiety</td>\n",
       "    </tr>\n",
       "    <tr>\n",
       "      <th>12</th>\n",
       "      <td>12</td>\n",
       "      <td>3f21058fc8</td>\n",
       "      <td>@bekalmom Will do this as often as I can madam...</td>\n",
       "      <td>anxiety</td>\n",
       "    </tr>\n",
       "    <tr>\n",
       "      <th>13</th>\n",
       "      <td>13</td>\n",
       "      <td>3f21058fc8</td>\n",
       "      <td>@bekalmom This really hits me. its hard madam....</td>\n",
       "      <td>anxiety</td>\n",
       "    </tr>\n",
       "    <tr>\n",
       "      <th>14</th>\n",
       "      <td>14</td>\n",
       "      <td>3f21058fc8</td>\n",
       "      <td>@bukhariramli Back to basic, dengar strategy s...</td>\n",
       "      <td>anxiety</td>\n",
       "    </tr>\n",
       "    <tr>\n",
       "      <th>15</th>\n",
       "      <td>15</td>\n",
       "      <td>3f21058fc8</td>\n",
       "      <td>@MintKr Yup. it's thing for their peers. Sekol...</td>\n",
       "      <td>anxiety</td>\n",
       "    </tr>\n",
       "    <tr>\n",
       "      <th>16</th>\n",
       "      <td>16</td>\n",
       "      <td>3f21058fc8</td>\n",
       "      <td>@TheAleem Ajar sikit</td>\n",
       "      <td>anxiety</td>\n",
       "    </tr>\n",
       "    <tr>\n",
       "      <th>17</th>\n",
       "      <td>17</td>\n",
       "      <td>3f21058fc8</td>\n",
       "      <td>@MintKr @TheAleem My sister dia form 5 last ye...</td>\n",
       "      <td>anxiety</td>\n",
       "    </tr>\n",
       "    <tr>\n",
       "      <th>18</th>\n",
       "      <td>18</td>\n",
       "      <td>3f21058fc8</td>\n",
       "      <td>@nikakmal00 Yes please! I have a lot of import...</td>\n",
       "      <td>anxiety</td>\n",
       "    </tr>\n",
       "    <tr>\n",
       "      <th>19</th>\n",
       "      <td>19</td>\n",
       "      <td>3f21058fc8</td>\n",
       "      <td>Bisnes owners nak buat apa sewaktu PKP kalini?...</td>\n",
       "      <td>anxiety</td>\n",
       "    </tr>\n",
       "  </tbody>\n",
       "</table>\n",
       "</div>"
      ],
      "text/plain": [
       "    Unnamed: 0     user_id                                               text  \\\n",
       "0            0  3f21058fc8  @amirulmokhtar Exactly! We were busy buat untu...   \n",
       "1            1  3f21058fc8  Ternangis baca text &amp; dengar call reply di...   \n",
       "2            2  3f21058fc8  I learn smthg very valuable today.\\n\\nWhen I w...   \n",
       "3            3  3f21058fc8  @MintKr Ohhh okay. So, to create more opportun...   \n",
       "4            4  3f21058fc8  @MintKr Perspective expanding experience tu ap...   \n",
       "5            5  3f21058fc8  @HusnaReads @auzainal Me too.😭 Sekarang pun da...   \n",
       "6            6  3f21058fc8               @TheAleem @fidonasir Priceless.haha🤣   \n",
       "7            7  3f21058fc8  @TweetKellyTelly @zamrimohamad Baru nak tanya ...   \n",
       "8            8  3f21058fc8                 @itsedma @edmastudios 💪keep going!   \n",
       "9            9  3f21058fc8  @_arares Paling senang buat je. Selamat dunia ...   \n",
       "10          10  3f21058fc8  I couldn't sleep. Figured out I need more stim...   \n",
       "11          11  3f21058fc8  No reason to give up.\\nNo reason to stop hustl...   \n",
       "12          12  3f21058fc8  @bekalmom Will do this as often as I can madam...   \n",
       "13          13  3f21058fc8  @bekalmom This really hits me. its hard madam....   \n",
       "14          14  3f21058fc8  @bukhariramli Back to basic, dengar strategy s...   \n",
       "15          15  3f21058fc8  @MintKr Yup. it's thing for their peers. Sekol...   \n",
       "16          16  3f21058fc8                               @TheAleem Ajar sikit   \n",
       "17          17  3f21058fc8  @MintKr @TheAleem My sister dia form 5 last ye...   \n",
       "18          18  3f21058fc8  @nikakmal00 Yes please! I have a lot of import...   \n",
       "19          19  3f21058fc8  Bisnes owners nak buat apa sewaktu PKP kalini?...   \n",
       "\n",
       "   disorder  \n",
       "0   anxiety  \n",
       "1   anxiety  \n",
       "2   anxiety  \n",
       "3   anxiety  \n",
       "4   anxiety  \n",
       "5   anxiety  \n",
       "6   anxiety  \n",
       "7   anxiety  \n",
       "8   anxiety  \n",
       "9   anxiety  \n",
       "10  anxiety  \n",
       "11  anxiety  \n",
       "12  anxiety  \n",
       "13  anxiety  \n",
       "14  anxiety  \n",
       "15  anxiety  \n",
       "16  anxiety  \n",
       "17  anxiety  \n",
       "18  anxiety  \n",
       "19  anxiety  "
      ]
     },
     "execution_count": 5,
     "metadata": {},
     "output_type": "execute_result"
    }
   ],
   "source": [
    "disorder_tweets.head(20)"
   ]
  },
  {
   "cell_type": "code",
   "execution_count": 45,
   "metadata": {},
   "outputs": [
    {
     "data": {
      "text/plain": [
       "disorder\n",
       "depression    180386\n",
       "anxiety        97325\n",
       "ptsd           66366\n",
       "bipolar        35732\n",
       "borderline     12000\n",
       "panic           5033\n",
       "Name: count, dtype: int64"
      ]
     },
     "execution_count": 45,
     "metadata": {},
     "output_type": "execute_result"
    }
   ],
   "source": [
    "disorder_musics.disorder.value_counts()"
   ]
  },
  {
   "cell_type": "code",
   "execution_count": 46,
   "metadata": {},
   "outputs": [
    {
     "data": {
      "text/plain": [
       "user_id\n",
       "eca67faf07    1100\n",
       "e41aac530c     401\n",
       "d427f6b57b     294\n",
       "731200f6a1     281\n",
       "e98bfef190     269\n",
       "              ... \n",
       "c654d4e354       1\n",
       "ca50031b80       1\n",
       "9d87cd0476       1\n",
       "80a50e57e2       1\n",
       "5c79f90d56       1\n",
       "Name: count, Length: 83, dtype: int64"
      ]
     },
     "execution_count": 46,
     "metadata": {},
     "output_type": "execute_result"
    }
   ],
   "source": [
    "disorder_musics[disorder_musics.disorder == 'panic']['user_id'].value_counts()"
   ]
  },
  {
   "cell_type": "code",
   "execution_count": 21,
   "metadata": {},
   "outputs": [],
   "source": [
    "temp = disorder_tweets.head(10000000)"
   ]
  },
  {
   "cell_type": "code",
   "execution_count": 22,
   "metadata": {},
   "outputs": [
    {
     "data": {
      "text/html": [
       "<div>\n",
       "<style scoped>\n",
       "    .dataframe tbody tr th:only-of-type {\n",
       "        vertical-align: middle;\n",
       "    }\n",
       "\n",
       "    .dataframe tbody tr th {\n",
       "        vertical-align: top;\n",
       "    }\n",
       "\n",
       "    .dataframe thead th {\n",
       "        text-align: right;\n",
       "    }\n",
       "</style>\n",
       "<table border=\"1\" class=\"dataframe\">\n",
       "  <thead>\n",
       "    <tr style=\"text-align: right;\">\n",
       "      <th></th>\n",
       "      <th>Unnamed: 0</th>\n",
       "      <th>user_id</th>\n",
       "      <th>text</th>\n",
       "      <th>disorder</th>\n",
       "    </tr>\n",
       "  </thead>\n",
       "  <tbody>\n",
       "    <tr>\n",
       "      <th>0</th>\n",
       "      <td>0</td>\n",
       "      <td>3f21058fc8</td>\n",
       "      <td>@amirulmokhtar Exactly! We were busy buat untu...</td>\n",
       "      <td>anxiety</td>\n",
       "    </tr>\n",
       "    <tr>\n",
       "      <th>1</th>\n",
       "      <td>1</td>\n",
       "      <td>3f21058fc8</td>\n",
       "      <td>Ternangis baca text &amp;amp; dengar call reply di...</td>\n",
       "      <td>anxiety</td>\n",
       "    </tr>\n",
       "    <tr>\n",
       "      <th>2</th>\n",
       "      <td>2</td>\n",
       "      <td>3f21058fc8</td>\n",
       "      <td>I learn smthg very valuable today.\\n\\nWhen I w...</td>\n",
       "      <td>anxiety</td>\n",
       "    </tr>\n",
       "    <tr>\n",
       "      <th>3</th>\n",
       "      <td>3</td>\n",
       "      <td>3f21058fc8</td>\n",
       "      <td>@MintKr Ohhh okay. So, to create more opportun...</td>\n",
       "      <td>anxiety</td>\n",
       "    </tr>\n",
       "    <tr>\n",
       "      <th>4</th>\n",
       "      <td>4</td>\n",
       "      <td>3f21058fc8</td>\n",
       "      <td>@MintKr Perspective expanding experience tu ap...</td>\n",
       "      <td>anxiety</td>\n",
       "    </tr>\n",
       "    <tr>\n",
       "      <th>...</th>\n",
       "      <td>...</td>\n",
       "      <td>...</td>\n",
       "      <td>...</td>\n",
       "      <td>...</td>\n",
       "    </tr>\n",
       "    <tr>\n",
       "      <th>9999995</th>\n",
       "      <td>9999995</td>\n",
       "      <td>2cf2400e5b</td>\n",
       "      <td>my Halloween costume! done by 100% drunk me 🤑 ...</td>\n",
       "      <td>depression</td>\n",
       "    </tr>\n",
       "    <tr>\n",
       "      <th>9999996</th>\n",
       "      <td>9999996</td>\n",
       "      <td>2cf2400e5b</td>\n",
       "      <td>I may or may not have my whole face covered in...</td>\n",
       "      <td>depression</td>\n",
       "    </tr>\n",
       "    <tr>\n",
       "      <th>9999997</th>\n",
       "      <td>9999997</td>\n",
       "      <td>2cf2400e5b</td>\n",
       "      <td>@LeeLoonana YEEES BABE GET THAT FREE CINEMA TI...</td>\n",
       "      <td>depression</td>\n",
       "    </tr>\n",
       "    <tr>\n",
       "      <th>9999998</th>\n",
       "      <td>9999998</td>\n",
       "      <td>2cf2400e5b</td>\n",
       "      <td>@awildhoshi I'd die happy and that's all that ...</td>\n",
       "      <td>depression</td>\n",
       "    </tr>\n",
       "    <tr>\n",
       "      <th>9999999</th>\n",
       "      <td>9999999</td>\n",
       "      <td>2cf2400e5b</td>\n",
       "      <td>Mark picking me up in his tractor aesthetics!!...</td>\n",
       "      <td>depression</td>\n",
       "    </tr>\n",
       "  </tbody>\n",
       "</table>\n",
       "<p>10000000 rows × 4 columns</p>\n",
       "</div>"
      ],
      "text/plain": [
       "         Unnamed: 0     user_id  \\\n",
       "0                 0  3f21058fc8   \n",
       "1                 1  3f21058fc8   \n",
       "2                 2  3f21058fc8   \n",
       "3                 3  3f21058fc8   \n",
       "4                 4  3f21058fc8   \n",
       "...             ...         ...   \n",
       "9999995     9999995  2cf2400e5b   \n",
       "9999996     9999996  2cf2400e5b   \n",
       "9999997     9999997  2cf2400e5b   \n",
       "9999998     9999998  2cf2400e5b   \n",
       "9999999     9999999  2cf2400e5b   \n",
       "\n",
       "                                                      text    disorder  \n",
       "0        @amirulmokhtar Exactly! We were busy buat untu...     anxiety  \n",
       "1        Ternangis baca text &amp; dengar call reply di...     anxiety  \n",
       "2        I learn smthg very valuable today.\\n\\nWhen I w...     anxiety  \n",
       "3        @MintKr Ohhh okay. So, to create more opportun...     anxiety  \n",
       "4        @MintKr Perspective expanding experience tu ap...     anxiety  \n",
       "...                                                    ...         ...  \n",
       "9999995  my Halloween costume! done by 100% drunk me 🤑 ...  depression  \n",
       "9999996  I may or may not have my whole face covered in...  depression  \n",
       "9999997  @LeeLoonana YEEES BABE GET THAT FREE CINEMA TI...  depression  \n",
       "9999998  @awildhoshi I'd die happy and that's all that ...  depression  \n",
       "9999999  Mark picking me up in his tractor aesthetics!!...  depression  \n",
       "\n",
       "[10000000 rows x 4 columns]"
      ]
     },
     "execution_count": 22,
     "metadata": {},
     "output_type": "execute_result"
    }
   ],
   "source": [
    "temp"
   ]
  },
  {
   "cell_type": "code",
   "execution_count": 23,
   "metadata": {},
   "outputs": [
    {
     "data": {
      "text/plain": [
       "0          @amirulmokhtar Exactly! We were busy buat untu...\n",
       "1          Ternangis baca text &amp; dengar call reply di...\n",
       "2          I learn smthg very valuable today.\\n\\nWhen I w...\n",
       "3          @MintKr Ohhh okay. So, to create more opportun...\n",
       "4          @MintKr Perspective expanding experience tu ap...\n",
       "                                 ...                        \n",
       "9999995    my Halloween costume! done by 100% drunk me 🤑 ...\n",
       "9999996    I may or may not have my whole face covered in...\n",
       "9999997    @LeeLoonana YEEES BABE GET THAT FREE CINEMA TI...\n",
       "9999998    @awildhoshi I'd die happy and that's all that ...\n",
       "9999999    Mark picking me up in his tractor aesthetics!!...\n",
       "Name: text, Length: 10000000, dtype: object"
      ]
     },
     "execution_count": 23,
     "metadata": {},
     "output_type": "execute_result"
    }
   ],
   "source": [
    "temp.text"
   ]
  },
  {
   "cell_type": "code",
   "execution_count": 24,
   "metadata": {},
   "outputs": [],
   "source": [
    "l_len=list()\n",
    "for i in (temp.text):\n",
    "    l_len.append(len(i))"
   ]
  },
  {
   "cell_type": "code",
   "execution_count": 25,
   "metadata": {},
   "outputs": [
    {
     "data": {
      "text/plain": [
       "(array([7.263134e+06, 1.901335e+06, 8.099060e+05, 1.559300e+04,\n",
       "        1.941000e+03, 1.105000e+03, 3.415000e+03, 1.773000e+03,\n",
       "        1.793000e+03, 5.000000e+00]),\n",
       " array([1.000e+00, 1.111e+02, 2.212e+02, 3.313e+02, 4.414e+02, 5.515e+02,\n",
       "        6.616e+02, 7.717e+02, 8.818e+02, 9.919e+02, 1.102e+03]),\n",
       " <BarContainer object of 10 artists>)"
      ]
     },
     "execution_count": 25,
     "metadata": {},
     "output_type": "execute_result"
    },
    {
     "data": {
      "image/png": "[encoded data removed]",
      "text/plain": [
       "<Figure size 640x480 with 1 Axes>"
      ]
     },
     "metadata": {},
     "output_type": "display_data"
    }
   ],
   "source": [
    "import pandas \n",
    "import matplotlib.pyplot as plt\n",
    "\n",
    "plt.hist(l_len)"
   ]
  },
  {
   "cell_type": "code",
   "execution_count": 29,
   "metadata": {},
   "outputs": [
    {
     "name": "stdout",
     "output_type": "stream",
     "text": [
      "90.7600175\n"
     ]
    }
   ],
   "source": [
    "avg =0.0\n",
    "for i in (l_len):\n",
    "    avg+=i\n",
    "print(avg/len(l_len))"
   ]
  },
  {
   "cell_type": "code",
   "execution_count": 32,
   "metadata": {},
   "outputs": [
    {
     "name": "stdout",
     "output_type": "stream",
     "text": [
      "8.23737912911732e+17\n"
     ]
    }
   ],
   "source": [
    "variance =0.0\n",
    "for i in l_len:\n",
    "    variance += (i-avg)**2\n",
    "variance /= len(l_len)\n",
    "print(variance)"
   ]
  },
  {
   "cell_type": "code",
   "execution_count": 33,
   "metadata": {},
   "outputs": [
    {
     "name": "stdout",
     "output_type": "stream",
     "text": [
      "907600084.2396016\n"
     ]
    }
   ],
   "source": [
    "std = variance**0.5\n",
    "print(std)"
   ]
  },
  {
   "cell_type": "code",
   "execution_count": 36,
   "metadata": {},
   "outputs": [
    {
     "data": {
      "text/plain": [
       "user_id\n",
       "ce56442a04    6135\n",
       "30837416a4    6036\n",
       "04e5a45b44    5986\n",
       "4bf20accbe    5911\n",
       "6c1afcff9c    5737\n",
       "              ... \n",
       "75352cbe88       2\n",
       "b80b4e7597       2\n",
       "7ea45ebf0a       2\n",
       "b4c8268b38       1\n",
       "dcd5ad6157       1\n",
       "Name: count, Length: 5701, dtype: int64"
      ]
     },
     "execution_count": 36,
     "metadata": {},
     "output_type": "execute_result"
    }
   ],
   "source": [
    "temp.user_id.value_counts()"
   ]
  },
  {
   "cell_type": "code",
   "execution_count": 42,
   "metadata": {},
   "outputs": [
    {
     "data": {
      "text/plain": [
       "disorder\n",
       "anxiety    2\n",
       "Name: count, dtype: int64"
      ]
     },
     "execution_count": 42,
     "metadata": {},
     "output_type": "execute_result"
    }
   ],
   "source": [
    "temp[temp.user_id == 'b80b4e7597'].disorder.value_counts()"
   ]
  }
 ],
 "metadata": {
  "kernelspec": {
   "display_name": "Python 3",
   "language": "python",
   "name": "python3"
  },
  "language_info": {
   "codemirror_mode": {
    "name": "ipython",
    "version": 3
   },
   "file_extension": ".py",
   "mimetype": "text/x-python",
   "name": "python",
   "nbconvert_exporter": "python",
   "pygments_lexer": "ipython3",
   "version": "3.10.0"
  }
 },
 "nbformat": 4,
 "nbformat_minor": 2
}
